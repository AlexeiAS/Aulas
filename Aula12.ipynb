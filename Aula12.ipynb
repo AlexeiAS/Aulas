{
 "cells": [
  {
   "cell_type": "markdown",
   "metadata": {},
   "source": [
    "#### Exercícios \n",
    "#### Implemente a Transformada de Hough para segmentos de reta na linguagem de sua preferência, calcule e a exiba para imagens pretas com:\n",
    "\n",
    "#### Apenas 1 pixel branco\n",
    "#### Apenas 2 pixels brancos\n",
    "##### Apenas 3 pixels brancos não colineares\n",
    "##### Apenas 4 pixels brancos distribuídos como vértices de um quadrado"
   ]
  },
  {
   "cell_type": "markdown",
   "metadata": {},
   "source": [
    "### Transformada de Hough"
   ]
  },
  {
   "cell_type": "code",
   "execution_count": 1,
   "metadata": {},
   "outputs": [],
   "source": [
    "import numpy as np\n",
    "import matplotlib.pyplot as plt\n",
    "import cv2\n",
    "import math as m"
   ]
  },
  {
   "cell_type": "code",
   "execution_count": 2,
   "metadata": {},
   "outputs": [
    {
     "data": {
      "text/plain": [
       "array([-90, -89, -88, -87, -86, -85, -84, -83, -82, -81, -80, -79, -78,\n",
       "       -77, -76, -75, -74, -73, -72, -71, -70, -69, -68, -67, -66, -65,\n",
       "       -64, -63, -62, -61, -60, -59, -58, -57, -56, -55, -54, -53, -52,\n",
       "       -51, -50, -49, -48, -47, -46, -45, -44, -43, -42, -41, -40, -39,\n",
       "       -38, -37, -36, -35, -34, -33, -32, -31, -30, -29, -28, -27, -26,\n",
       "       -25, -24, -23, -22, -21, -20, -19, -18, -17, -16, -15, -14, -13,\n",
       "       -12, -11, -10,  -9,  -8,  -7,  -6,  -5,  -4,  -3,  -2,  -1,   0,\n",
       "         1,   2,   3,   4,   5,   6,   7,   8,   9,  10,  11,  12,  13,\n",
       "        14,  15,  16,  17,  18,  19,  20,  21,  22,  23,  24,  25,  26,\n",
       "        27,  28,  29,  30,  31,  32,  33,  34,  35,  36,  37,  38,  39,\n",
       "        40,  41,  42,  43,  44,  45,  46,  47,  48,  49,  50,  51,  52,\n",
       "        53,  54,  55,  56,  57,  58,  59,  60,  61,  62,  63,  64,  65,\n",
       "        66,  67,  68,  69,  70,  71,  72,  73,  74,  75,  76,  77,  78,\n",
       "        79,  80,  81,  82,  83,  84,  85,  86,  87,  88,  89,  90])"
      ]
     },
     "execution_count": 2,
     "metadata": {},
     "output_type": "execute_result"
    }
   ],
   "source": [
    "vtheta = np.arange(-90,91)\n",
    "vtheta"
   ]
  },
  {
   "cell_type": "code",
   "execution_count": 3,
   "metadata": {},
   "outputs": [],
   "source": [
    "def rad(grau):\n",
    "    rad = grau*np.pi/180\n",
    "    return rad"
   ]
  },
  {
   "cell_type": "code",
   "execution_count": 4,
   "metadata": {},
   "outputs": [],
   "source": [
    "def calcRho(theta,x,y):\n",
    "    rho = y*m.sin(rad(theta)) + x*m.cos(rad(theta))\n",
    "    rho = round(rho)\n",
    "    return rho"
   ]
  },
  {
   "cell_type": "code",
   "execution_count": 5,
   "metadata": {},
   "outputs": [],
   "source": [
    "def houghLines(img,vTheta,limiar):\n",
    "    flag = 0 #Flag do valor máximo\n",
    "    acum = {}\n",
    "    #Laço das linhas\n",
    "    for i in range (img.shape[0]):\n",
    "        #Laço das colunas\n",
    "        for j in range (img.shape[1]):\n",
    "            #Busca os pontos\n",
    "            if img[i][j] == 255:\n",
    "            \n",
    "                #Encontra os Rho para cada theta\n",
    "                for t in range (len(vTheta)):\n",
    "                    rho = calcRho(vTheta[t],j,i)\n",
    "                    try :\n",
    "                        acum[(rho,vTheta[t])]\n",
    "                        acum[(rho,vTheta[t])] +=1\n",
    "                    except:\n",
    "                        acum[(rho,vTheta[t])] = 1\n",
    "    #Pega o valor máximo acumulado\n",
    "    if limiar == -1:\n",
    "        limiar = max(acum.values())\n",
    "        flag = 1\n",
    "        \n",
    "    keysA = [k for k,v in acum.items() if v>=limiar]\n",
    "    if flag == 1:\n",
    "        keysA = [keysA[0]]\n",
    "    return keysA"
   ]
  },
  {
   "cell_type": "code",
   "execution_count": 6,
   "metadata": {},
   "outputs": [],
   "source": [
    "def showLines(img,vtheta,limiar):\n",
    "    lines = houghLines(img,vtheta,limiar)\n",
    "    imgRGB = np.copy(img)\n",
    "    imgRGB = cv2.cvtColor(imgRGB,cv2.COLOR_GRAY2RGB)\n",
    "\n",
    "    shape = img.shape\n",
    "    diag = int(m.sqrt(shape[0]**2 + shape[1]**2))\n",
    "\n",
    "    for line in lines :\n",
    "        a = m.cos(rad(line[1]))\n",
    "        b = m.sin(rad(line[1]))\n",
    "        x0 = a * line[0]\n",
    "        y0 = b * line[0]\n",
    "        pt1 = (int(x0 + diag*(-b)), int(y0 + int(diag*(a))))\n",
    "        pt2 = (int(x0 - diag*(-b)), int(y0 - int(diag*(a))))\n",
    "        cv2.line(imgRGB,pt1,pt2,(0,255,0),1)\n",
    "    return imgRGB"
   ]
  },
  {
   "cell_type": "code",
   "execution_count": 7,
   "metadata": {},
   "outputs": [
    {
     "data": {
      "text/plain": [
       "<matplotlib.image.AxesImage at 0x19c9088d588>"
      ]
     },
     "execution_count": 7,
     "metadata": {},
     "output_type": "execute_result"
    },
    {
     "data": {
      "image/png": "[encoded data removed]",
      "text/plain": [
       "<Figure size 432x288 with 1 Axes>"
      ]
     },
     "metadata": {
      "needs_background": "light"
     },
     "output_type": "display_data"
    }
   ],
   "source": [
    "img = cv2.imread('sudoku.png')\n",
    "img  = cv2.cvtColor(img,cv2.COLOR_RGB2GRAY)\n",
    "_,img = cv2.threshold(img,128,255,cv2.THRESH_BINARY)\n",
    "img = np.bitwise_not(img)\n",
    "plt.imshow(img,cmap = 'gray')"
   ]
  },
  {
   "cell_type": "code",
   "execution_count": 8,
   "metadata": {},
   "outputs": [
    {
     "data": {
      "text/plain": [
       "<matplotlib.image.AxesImage at 0x19c93a12898>"
      ]
     },
     "execution_count": 8,
     "metadata": {},
     "output_type": "execute_result"
    },
    {
     "data": {
      "image/png": "[encoded data removed]",
      "text/plain": [
       "<Figure size 432x288 with 1 Axes>"
      ]
     },
     "metadata": {
      "needs_background": "light"
     },
     "output_type": "display_data"
    }
   ],
   "source": [
    "plt.imshow(showLines(img,vtheta,200))"
   ]
  },
  {
   "cell_type": "markdown",
   "metadata": {},
   "source": [
    "### Aplicando nas imagens do exercício"
   ]
  },
  {
   "cell_type": "code",
   "execution_count": 9,
   "metadata": {},
   "outputs": [
    {
     "data": {
      "text/plain": [
       "<matplotlib.image.AxesImage at 0x19c93a4d9b0>"
      ]
     },
     "execution_count": 9,
     "metadata": {},
     "output_type": "execute_result"
    },
    {
     "data": {
      "image/png": "[encoded data removed]",
      "text/plain": [
       "<Figure size 216x216 with 1 Axes>"
      ]
     },
     "metadata": {
      "needs_background": "light"
     },
     "output_type": "display_data"
    }
   ],
   "source": [
    "img1 = np.zeros((10,10),np.uint8)\n",
    "img1[2][2] = 255\n",
    "\n",
    "plt.figure(figsize = (3,3))\n",
    "plt.imshow(img1,cmap = 'gray')"
   ]
  },
  {
   "cell_type": "code",
   "execution_count": 10,
   "metadata": {},
   "outputs": [
    {
     "data": {
      "text/plain": [
       "<matplotlib.image.AxesImage at 0x19c93a8ccc0>"
      ]
     },
     "execution_count": 10,
     "metadata": {},
     "output_type": "execute_result"
    },
    {
     "data": {
      "image/png": "[encoded data removed]",
      "text/plain": [
       "<Figure size 216x216 with 1 Axes>"
      ]
     },
     "metadata": {
      "needs_background": "light"
     },
     "output_type": "display_data"
    }
   ],
   "source": [
    "img2 = np.zeros((10,10),np.uint8)\n",
    "img2[2][2] = 255\n",
    "img2[6][6] = 255\n",
    "\n",
    "plt.figure(figsize = (3,3))\n",
    "plt.imshow(img2,cmap= 'gray')"
   ]
  },
  {
   "cell_type": "code",
   "execution_count": 11,
   "metadata": {},
   "outputs": [
    {
     "data": {
      "text/plain": [
       "<matplotlib.image.AxesImage at 0x19c93aea080>"
      ]
     },
     "execution_count": 11,
     "metadata": {},
     "output_type": "execute_result"
    },
    {
     "data": {
      "image/png": "[encoded data removed]",
      "text/plain": [
       "<Figure size 216x216 with 1 Axes>"
      ]
     },
     "metadata": {
      "needs_background": "light"
     },
     "output_type": "display_data"
    }
   ],
   "source": [
    "img3 = np.zeros((10,10),np.uint8)\n",
    "img3[2][2] = 255\n",
    "img3[7][1] = 255\n",
    "img3[6][6] = 255\n",
    "\n",
    "plt.figure(figsize = (3,3))\n",
    "plt.imshow(img3,cmap = 'gray')"
   ]
  },
  {
   "cell_type": "code",
   "execution_count": 12,
   "metadata": {},
   "outputs": [
    {
     "data": {
      "text/plain": [
       "<matplotlib.image.AxesImage at 0x19c93b3d358>"
      ]
     },
     "execution_count": 12,
     "metadata": {},
     "output_type": "execute_result"
    },
    {
     "data": {
      "image/png": "[encoded data removed]",
      "text/plain": [
       "<Figure size 216x216 with 1 Axes>"
      ]
     },
     "metadata": {
      "needs_background": "light"
     },
     "output_type": "display_data"
    }
   ],
   "source": [
    "img4 = np.zeros((10,10),np.uint8)\n",
    "img4[2][2] = 255\n",
    "img4[6][6] = 255\n",
    "img4[2][6] = 255\n",
    "img4[6][2] = 255\n",
    "\n",
    "plt.figure(figsize = (3,3))\n",
    "plt.imshow(img4,cmap = 'gray')"
   ]
  },
  {
   "cell_type": "code",
   "execution_count": 13,
   "metadata": {},
   "outputs": [
    {
     "data": {
      "text/plain": [
       "Text(0.5, 1.0, 'image4')"
      ]
     },
     "execution_count": 13,
     "metadata": {},
     "output_type": "execute_result"
    },
    {
     "data": {
      "image/png": "[encoded data removed]",
      "text/plain": [
       "<Figure size 720x720 with 4 Axes>"
      ]
     },
     "metadata": {
      "needs_background": "light"
     },
     "output_type": "display_data"
    }
   ],
   "source": [
    "plt.figure(figsize = (10,10))\n",
    "plt.subplot(1,4,1)\n",
    "plt.imshow(showLines(img1,vtheta,-1), cmap = 'gray')\n",
    "plt.title('image1')\n",
    "\n",
    "plt.subplot(1,4,2)\n",
    "plt.imshow(showLines(img2,vtheta,-1), cmap = 'gray')\n",
    "plt.title('image2')\n",
    "\n",
    "plt.subplot(1,4,3)\n",
    "plt.imshow(showLines(img3,vtheta,-1), cmap = 'gray')\n",
    "plt.title('image3')\n",
    "\n",
    "plt.subplot(1,4,4)\n",
    "plt.imshow(showLines(img4,vtheta,-1),cmap = 'gray')\n",
    "plt.title('image4')"
   ]
  },
  {
   "cell_type": "code",
   "execution_count": null,
   "metadata": {},
   "outputs": [],
   "source": []
  }
 ],
 "metadata": {
  "kernelspec": {
   "display_name": "Python 3",
   "language": "python",
   "name": "python3"
  },
  "language_info": {
   "codemirror_mode": {
    "name": "ipython",
    "version": 3
   },
   "file_extension": ".py",
   "mimetype": "text/x-python",
   "name": "python",
   "nbconvert_exporter": "python",
   "pygments_lexer": "ipython3",
   "version": "3.7.1"
  }
 },
 "nbformat": 4,
 "nbformat_minor": 2
}
