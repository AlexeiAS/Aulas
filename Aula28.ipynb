{
 "cells": [
  {
   "cell_type": "markdown",
   "metadata": {},
   "source": [
    "#### Faster R-CNN:\n",
    "\n",
    "##### No faster RCNN a imagem original é submetida como input para a rede convolucional , a qual fornece um feature map. \n",
    "##### Ao contrário dos métodos predecessores desse algoritimoque usam algoritimos de busca seletiva  ele utiliza uma rede secundária para prever as regiões promissoras.\n",
    "##### Essas regiões premissoras propostas são submetidas a uma camade de pooling e então é aplicado o classificador. \n",
    "\n",
    "\n",
    "\n",
    "#### YOLO \n",
    "##### O Yolo traz uma ideia de olhar a imagem apenas uma vez para obter os bounding boxes das classes na imagem,\n",
    "##### Nele a imagem é dividida em uma grade SxS e dentro de cada grade são definidos m bounding boxes, e  assim para cada um desses bounding boxes a rede gera uma probabilidade de classes e valores sendo aqueles que possuem probabilidade em uma classe maior que seu limiar necessário são atribuídas a ela.\n",
    "\n",
    "#### SSD - Single Shot Detector\n",
    "##### Nesse modelo são realizadas convoluções para extração de feições e obtenção de um feature layer com os locais .\n",
    "##### Para cada local são obtidos k bounding boxes , com diferentes tamanhos e proporções.\n",
    "##### Em cada um desses bounding boxes serão calculadas as probabilidades para as classes de análise  e os deslocamentos em relação ao bounding boxe original.\n"
   ]
  }
 ],
 "metadata": {
  "kernelspec": {
   "display_name": "Python 3",
   "language": "python",
   "name": "python3"
  },
  "language_info": {
   "codemirror_mode": {
    "name": "ipython",
    "version": 3
   },
   "file_extension": ".py",
   "mimetype": "text/x-python",
   "name": "python",
   "nbconvert_exporter": "python",
   "pygments_lexer": "ipython3",
   "version": "3.7.1"
  }
 },
 "nbformat": 4,
 "nbformat_minor": 2
}
