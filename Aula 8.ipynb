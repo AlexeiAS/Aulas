{
 "cells": [
  {
   "cell_type": "markdown",
   "metadata": {},
   "source": [
    "## Operações Morfológicas"
   ]
  },
  {
   "cell_type": "code",
   "execution_count": 1,
   "metadata": {},
   "outputs": [],
   "source": [
    "import matplotlib.pyplot as plt\n",
    "import cv2\n",
    "import numpy as np\n",
    "from PIL import Image"
   ]
  },
  {
   "cell_type": "markdown",
   "metadata": {},
   "source": [
    "## 1. Operações "
   ]
  },
  {
   "cell_type": "code",
   "execution_count": null,
   "metadata": {},
   "outputs": [],
   "source": [
    "#Carrega a imagem e a coloca em escala de cinza\n",
    "img = cv2.imread('danteCQ.PNG')\n",
    "img = cv2.cvtColor(img,cv2.COLOR_RGB2GRAY)\n",
    "plt.imshow(img,cmap = 'gray')"
   ]
  },
  {
   "cell_type": "code",
   "execution_count": null,
   "metadata": {},
   "outputs": [],
   "source": [
    "#Inicializa o Kernel\n",
    "kernel = np.ones((3,3),np.uint8)\n",
    "timg = img.copy()"
   ]
  },
  {
   "cell_type": "code",
   "execution_count": null,
   "metadata": {},
   "outputs": [],
   "source": [
    "#LIMIARIZAÇÃO\n",
    "_,thresh = cv2.threshold(timg,128,1,cv2.THRESH_BINARY)\n",
    "\n",
    "\n",
    "\n",
    "plt.figure(figsize = (10,10))\n",
    "\n",
    "plt.subplot(1,2,1)\n",
    "plt.imshow(thresh,cmap = 'gray')\n",
    "plt.title('Limiarização')\n",
    "\n",
    "plt.subplot(1,2,2)\n",
    "plt.imshow(img,cmap = 'gray')\n",
    "plt.title('Original')"
   ]
  },
  {
   "cell_type": "code",
   "execution_count": null,
   "metadata": {},
   "outputs": [],
   "source": [
    "#EROSÃO\n",
    "it = input('Digite o número de iterações:\\n')\n",
    "erosion = cv2.erode(timg,kernel, iterations = int(it))\n",
    "\n",
    "plt.figure(figsize = (10,10))\n",
    "\n",
    "plt.subplot(1,2,1)\n",
    "plt.imshow(erosion,cmap = 'gray')\n",
    "plt.title('Erosão')\n",
    "\n",
    "plt.subplot(1,2,2)\n",
    "plt.imshow(img,cmap = 'gray')\n",
    "plt.title('Original')\n",
    "#-> \"Mata as linha finas\""
   ]
  },
  {
   "cell_type": "code",
   "execution_count": null,
   "metadata": {},
   "outputs": [],
   "source": [
    "# DILATAÇÃO\n",
    "it = input ('Digite o número de iterações:\\n')\n",
    "dilate = cv2.dilate(timg,kernel,iterations = int(it))\n",
    "\n",
    "plt.figure(figsize = (10,10))\n",
    "\n",
    "plt.subplot(1,2,1)\n",
    "plt.imshow(dilate,cmap = 'gray')\n",
    "plt.title('Dilatação')\n",
    "\n",
    "plt.subplot(1,2,2)\n",
    "plt.imshow(img,cmap = 'gray')\n",
    "plt.title('Original')\n",
    "#-> \"Incha as linhas finas\""
   ]
  },
  {
   "cell_type": "code",
   "execution_count": null,
   "metadata": {},
   "outputs": [],
   "source": [
    "#ABERTURA\n",
    "it = input('Digite o número de iterações:\\n')\n",
    "open = cv2.morphologyEx(timg,cv2.MORPH_OPEN,kernel,iterations = int(it))\n",
    "\n",
    "plt.figure(figsize = (10,10))\n",
    "\n",
    "plt.subplot(1,2,1)\n",
    "plt.imshow(open,cmap = 'gray')\n",
    "plt.title('Abertura')\n",
    "\n",
    "plt.subplot(1,2,2)\n",
    "plt.imshow(img,cmap = 'gray')\n",
    "plt.title('Original')\n",
    "#\"Abre buracos, um 'A' por exemplo tem seu meio aberto e as linhas finas reduzidas sumindo\""
   ]
  },
  {
   "cell_type": "code",
   "execution_count": null,
   "metadata": {},
   "outputs": [],
   "source": [
    "#FECHAMENTO\n",
    "it = input('Digite o número de iterações:\\n')\n",
    "close = cv2.morphologyEx(timg,cv2.MORPH_CLOSE,kernel,iterations = int(it))\n",
    "\n",
    "plt.figure(figsize = (10,10))\n",
    "\n",
    "plt.subplot(1,2,1)\n",
    "plt.imshow(close,cmap = 'gray')\n",
    "plt.title('Fechamento')\n",
    "\n",
    "plt.subplot(1,2,2)\n",
    "plt.imshow(img,cmap = 'gray')\n",
    "plt.title('Original')\n",
    "#Fecha os buracos"
   ]
  },
  {
   "cell_type": "markdown",
   "metadata": {},
   "source": [
    "## 2.Análise da Placa de Carro"
   ]
  },
  {
   "cell_type": "code",
   "execution_count": null,
   "metadata": {},
   "outputs": [],
   "source": [
    "#Carrega a imagem\n",
    "img = cv2.imread('HUH9271.png')\n",
    "plt.imshow(img)\n",
    "timg = img.copy()"
   ]
  },
  {
   "cell_type": "code",
   "execution_count": null,
   "metadata": {},
   "outputs": [],
   "source": [
    "timg = cv2.cvtColor(img,cv2.COLOR_RGB2GRAY)\n",
    "timg.shape"
   ]
  },
  {
   "cell_type": "code",
   "execution_count": null,
   "metadata": {},
   "outputs": [],
   "source": [
    "#Corta a parte da placa\n",
    "timg = timg[30:75,20:230]\n",
    "plt.imshow(timg,cmap = 'gray')"
   ]
  },
  {
   "cell_type": "code",
   "execution_count": null,
   "metadata": {},
   "outputs": [],
   "source": [
    "#Limiariza \n",
    "_,timg = cv2.threshold(timg,235,255,cv2.THRESH_BINARY)\n",
    "plt.imshow(timg,cmap = 'gray')"
   ]
  },
  {
   "cell_type": "code",
   "execution_count": null,
   "metadata": {},
   "outputs": [],
   "source": [
    "#Aplica o Negativo\n",
    "timg = timg.astype(np.float)\n",
    "timg = timg - 255\n",
    "timg = abs(timg)\n",
    "timg = timg.astype(np.uint8)\n",
    "plt.imshow(timg,cmap = 'gray')"
   ]
  },
  {
   "cell_type": "code",
   "execution_count": null,
   "metadata": {},
   "outputs": [],
   "source": [
    "#Inicializa o Kernel\n",
    "kernel = np.ones((3,3),np.uint8)"
   ]
  },
  {
   "cell_type": "code",
   "execution_count": null,
   "metadata": {},
   "outputs": [],
   "source": [
    "#Operações Morfológicas\n",
    "def funcoes(mode,it,img):\n",
    "    if mode == 1:\n",
    "        opening = cv2.morphologyEx(img,cv2.MORPH_OPEN,kernel,iterations = int(it))\n",
    "        return opening\n",
    "    elif mode == 2:\n",
    "        closing = cv2.morphologyEx(img,cv2.MORPH_CLOSE,kernel,iterations = int(it))\n",
    "        return closing\n",
    "    elif mode == 3:\n",
    "        erosion = cv2.erode(img,kernel,iterations = int(it))\n",
    "        return erosion\n",
    "    elif mode == 4:\n",
    "        dilate = cv2.dilate(img,kernel,iterations = int(it))\n",
    "        return dilate\n",
    "    else :\n",
    "        return img\n",
    "    "
   ]
  },
  {
   "cell_type": "code",
   "execution_count": null,
   "metadata": {},
   "outputs": [],
   "source": [
    "#Função de Seleção\n",
    "def opMorfologica(img,op):\n",
    "    preview = img\n",
    "    mode = input('''Selecione uma opção ou uma sequencia de opções a partir de :\n",
    "                 \\n 1 : Abertura \\n 2 : Fechamento \\n 3 : Erosão \\n 4 : Dilatação \\n''')\n",
    "    \n",
    "    mode = mode.replace(' ','')\n",
    "    mode = mode.replace(',','')\n",
    "    it = input(''' Digite uma quantidade de iterações mínima de 1 para as opções selecionadas: \\n''')\n",
    "    it = it.replace(' ','')\n",
    "    it = it.replace(',','')\n",
    "    \n",
    "    if len(mode) != len(it):\n",
    "        print(\"Numero de iteraçoes invalido\")\n",
    "        return -1\n",
    "    op.append((mode,it))\n",
    "    for i in range (len(mode)):\n",
    "        img = funcoes(int(mode[i]),int(it[i]),img)\n",
    "        \n",
    "\n",
    "    return img,preview"
   ]
  },
  {
   "cell_type": "code",
   "execution_count": null,
   "metadata": {},
   "outputs": [],
   "source": [
    "#Inicio e Reset\n",
    "preview = timg\n",
    "view = timg\n",
    "operations = []"
   ]
  },
  {
   "cell_type": "code",
   "execution_count": null,
   "metadata": {},
   "outputs": [],
   "source": [
    "#Volta a última operação\n",
    "answer = input('Digite zero se o resultado não foi ok! ')\n",
    "if answer == '0':\n",
    "    preview = result[1]\n",
    "    operations = operations[0:len(operations)-1]\n",
    "    "
   ]
  },
  {
   "cell_type": "code",
   "execution_count": null,
   "metadata": {},
   "outputs": [],
   "source": [
    "# Chama as funções\n",
    "result = opMorfologica(preview,operations)\n",
    "view = result[0]\n",
    "preview = result[1]\n",
    "\n",
    "plt.figure(figsize = (10,10))\n",
    "plt.subplot(1,2,1)\n",
    "plt.imshow(preview,cmap = 'gray')\n",
    "plt.title('Imagem Inicial')\n",
    "plt.subplot(1,2,2)\n",
    "plt.imshow(view,cmap = 'gray')\n",
    "plt.title('Imagem Resultante')\n",
    "preview = view\n"
   ]
  },
  {
   "cell_type": "code",
   "execution_count": null,
   "metadata": {},
   "outputs": [],
   "source": [
    "plt.imshow(preview,cmap = 'gray')"
   ]
  },
  {
   "cell_type": "code",
   "execution_count": null,
   "metadata": {},
   "outputs": [],
   "source": [
    "operations"
   ]
  },
  {
   "cell_type": "code",
   "execution_count": null,
   "metadata": {},
   "outputs": [],
   "source": [
    "dici = {1:'Abertura',2:'Fechamento',3:'Erosão',4:'Dilatação'}"
   ]
  },
  {
   "cell_type": "code",
   "execution_count": null,
   "metadata": {},
   "outputs": [],
   "source": [
    "for i in range (len(operations)) :\n",
    "    for j in range (len(operations[i][0])):    \n",
    "        print('{} -> Iterações : {}'.format(dici[int(operations[i][0][j])],int(operations[i][1][j])))"
   ]
  }
 ],
 "metadata": {
  "kernelspec": {
   "display_name": "Python 3",
   "language": "python",
   "name": "python3"
  },
  "language_info": {
   "codemirror_mode": {
    "name": "ipython",
    "version": 3
   },
   "file_extension": ".py",
   "mimetype": "text/x-python",
   "name": "python",
   "nbconvert_exporter": "python",
   "pygments_lexer": "ipython3",
   "version": "3.7.1"
  }
 },
 "nbformat": 4,
 "nbformat_minor": 2
}
