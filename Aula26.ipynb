{
 "cells": [
  {
   "cell_type": "markdown",
   "metadata": {},
   "source": [
    "#### Aula 26 – Redes Neurais Convolucionais\n",
    "##### Nesse exercício irei fazer uma adptação com relação ao tutorial utilizado, pois o mesmo trata de recursos do opencv porém na linguagem C++ ,e como estou realizando realizando todas as aulas em python irei mostrar a construção de uma rede convolucional bem simples em pytorch utilizando o dataset MINIST."
   ]
  },
  {
   "cell_type": "code",
   "execution_count": 2,
   "metadata": {},
   "outputs": [
    {
     "data": {
      "text/plain": [
       "'1.4.0+cpu'"
      ]
     },
     "execution_count": 2,
     "metadata": {},
     "output_type": "execute_result"
    }
   ],
   "source": [
    "import torch\n",
    "import torch.nn as nn\n",
    "from torch import optim\n",
    "import torch.nn.functional as F\n",
    "import numpy as np\n",
    "import matplotlib.pyplot as plt\n",
    "from torchvision import datasets\n",
    "import torchvision.transforms as transforms\n",
    "torch.__version__"
   ]
  },
  {
   "cell_type": "code",
   "execution_count": 3,
   "metadata": {},
   "outputs": [
    {
     "data": {
      "text/plain": [
       "<torch._C.Generator at 0x259556748b0>"
      ]
     },
     "execution_count": 3,
     "metadata": {},
     "output_type": "execute_result"
    }
   ],
   "source": [
    "torch.manual_seed(123)"
   ]
  },
  {
   "cell_type": "code",
   "execution_count": 4,
   "metadata": {},
   "outputs": [],
   "source": [
    "transform = transforms.ToTensor()"
   ]
  },
  {
   "cell_type": "code",
   "execution_count": 5,
   "metadata": {},
   "outputs": [
    {
     "name": "stdout",
     "output_type": "stream",
     "text": [
      "Downloading http://yann.lecun.com/exdb/mnist/train-images-idx3-ubyte.gz to .\\MNIST\\raw\\train-images-idx3-ubyte.gz\n"
     ]
    },
    {
     "data": {
      "application/vnd.jupyter.widget-view+json": {
       "model_id": "307cf3662cbb43e5a90d127a1e07756a",
       "version_major": 2,
       "version_minor": 0
      },
      "text/plain": [
       "HBox(children=(IntProgress(value=1, bar_style='info', max=1), HTML(value='')))"
      ]
     },
     "metadata": {},
     "output_type": "display_data"
    },
    {
     "name": "stdout",
     "output_type": "stream",
     "text": [
      "Extracting .\\MNIST\\raw\\train-images-idx3-ubyte.gz to .\\MNIST\\raw\n",
      "Downloading http://yann.lecun.com/exdb/mnist/train-labels-idx1-ubyte.gz to .\\MNIST\\raw\\train-labels-idx1-ubyte.gz\n"
     ]
    },
    {
     "data": {
      "application/vnd.jupyter.widget-view+json": {
       "model_id": "cf0a670a375a486195541d9b26757f57",
       "version_major": 2,
       "version_minor": 0
      },
      "text/plain": [
       "HBox(children=(IntProgress(value=1, bar_style='info', max=1), HTML(value='')))"
      ]
     },
     "metadata": {},
     "output_type": "display_data"
    },
    {
     "name": "stdout",
     "output_type": "stream",
     "text": [
      "Extracting .\\MNIST\\raw\\train-labels-idx1-ubyte.gz to .\\MNIST\\raw\n",
      "Downloading http://yann.lecun.com/exdb/mnist/t10k-images-idx3-ubyte.gz to .\\MNIST\\raw\\t10k-images-idx3-ubyte.gz\n"
     ]
    },
    {
     "data": {
      "application/vnd.jupyter.widget-view+json": {
       "model_id": "d984b2fa0c2d4eccb41380c922d9513c",
       "version_major": 2,
       "version_minor": 0
      },
      "text/plain": [
       "HBox(children=(IntProgress(value=1, bar_style='info', max=1), HTML(value='')))"
      ]
     },
     "metadata": {},
     "output_type": "display_data"
    },
    {
     "name": "stdout",
     "output_type": "stream",
     "text": [
      "Extracting .\\MNIST\\raw\\t10k-images-idx3-ubyte.gz to .\\MNIST\\raw\n",
      "Downloading http://yann.lecun.com/exdb/mnist/t10k-labels-idx1-ubyte.gz to .\\MNIST\\raw\\t10k-labels-idx1-ubyte.gz\n"
     ]
    },
    {
     "data": {
      "application/vnd.jupyter.widget-view+json": {
       "model_id": "a89450d19062422fa636db41b1dfb826",
       "version_major": 2,
       "version_minor": 0
      },
      "text/plain": [
       "HBox(children=(IntProgress(value=1, bar_style='info', max=1), HTML(value='')))"
      ]
     },
     "metadata": {},
     "output_type": "display_data"
    },
    {
     "name": "stdout",
     "output_type": "stream",
     "text": [
      "Extracting .\\MNIST\\raw\\t10k-labels-idx1-ubyte.gz to .\\MNIST\\raw\n",
      "Processing...\n",
      "Done!\n"
     ]
    }
   ],
   "source": [
    "train = datasets.MNIST(root = '.',train = 'True',download = True,transform = transform)"
   ]
  },
  {
   "cell_type": "code",
   "execution_count": 6,
   "metadata": {},
   "outputs": [],
   "source": [
    "test = datasets.MNIST(root = '.',train = False, download = True, transform=transform)"
   ]
  },
  {
   "cell_type": "code",
   "execution_count": 7,
   "metadata": {},
   "outputs": [],
   "source": [
    "train_loader = torch.utils.data.DataLoader(train,batch_size = 128)\n",
    "test_loader = torch.utils.data.DataLoader(test,batch_size=128)"
   ]
  },
  {
   "cell_type": "code",
   "execution_count": 8,
   "metadata": {},
   "outputs": [
    {
     "data": {
      "text/plain": [
       "<matplotlib.image.AxesImage at 0x25960013358>"
      ]
     },
     "execution_count": 8,
     "metadata": {},
     "output_type": "execute_result"
    },
    {
     "data": {
      "image/png": "[encoded data removed]",
      "text/plain": [
       "<Figure size 432x288 with 1 Axes>"
      ]
     },
     "metadata": {
      "needs_background": "light"
     },
     "output_type": "display_data"
    }
   ],
   "source": [
    "imagem = next(iter(train_loader))[0][0].view(28,28)\n",
    "plt.imshow(imagem,cmap='gray')\n",
    "#Imagem retorna (batch(n de imagens),canais(cinza ou rgb),shape(x,y))\n",
    "#view retorna apenas a imagem mudando o size"
   ]
  },
  {
   "cell_type": "markdown",
   "metadata": {},
   "source": [
    "### Construção do Modelo"
   ]
  },
  {
   "cell_type": "code",
   "execution_count": 9,
   "metadata": {},
   "outputs": [],
   "source": [
    "class classificador(nn.Module):\n",
    "    def __init__(self):\n",
    "        super().__init__()\n",
    "        \n",
    "        ##Estrutura da Parte Convolucional\n",
    "        self.conv1 = nn.Conv2d(in_channels = 1,out_channels = 32,kernel_size=(3,3))\n",
    "        #in_channels = 3 p/ rgb \n",
    "        #out_channels = 32 filtros        \n",
    "        self.conv2 = nn.Conv2d(32,32,(3,3))\n",
    "        #conv2 : entrada\n",
    "        #recebe os 32 filtros da camada anterior conv1\n",
    "        \n",
    "        self.activation = nn.ReLU()\n",
    "        self.bnorm = nn.BatchNorm2d(num_features = 32)\n",
    "        self.pool = nn.MaxPool2d(kernel_size=(2,2))\n",
    "        self.flatten = nn.Flatten()\n",
    "        \n",
    "        \n",
    "        ##Estrutura da Rede Neural Densa\n",
    "    \n",
    "        #800 -> 128 -> 128 ->10 digitos\n",
    "        #output = (input - dimfilter + 1)/stride\n",
    "        #stride -> de quantos em quantos pixels vai andar, default =1 \n",
    "        #Convolução 1:(28 - 3 + 1 / 1) = 26x26\n",
    "        #pooling 1: 13x13 (divide por 2)\n",
    "        #Convolução 2: (13 - 3 + 1/1) = 11x11\n",
    "        #pooling 2: 5x5\n",
    "        #5*5* 32 detectores\n",
    "        self.linear1 = nn.Linear(in_features = 32*5*5,out_features=128)\n",
    "        self.linear2 = nn.Linear(128,128)\n",
    "        self.output = nn.Linear(128,10)\n",
    "        self.dropout = nn.Dropout(p = 0.2)\n",
    "        #Zerar 20% dos neuronios\n",
    "    def foward(self,X):\n",
    "        X = self.pool(self.bnorm(self.activation(self.conv1(X))))\n",
    "        X = self.pool(self.bnorm(self.activation(self.conv2(X))))   \n",
    "        X = self.flatten(X)\n",
    "        \n",
    "        X = self.dropout(self.activation(self.linear1(X)))\n",
    "        X = self.dropout(self.activation(self.linear2(X)))\n",
    "        X = self.output(X)\n",
    "        \n",
    "        return X"
   ]
  },
  {
   "cell_type": "code",
   "execution_count": 10,
   "metadata": {},
   "outputs": [],
   "source": [
    "net = classificador()\n",
    "criterion = nn.CrossEntropyLoss()\n",
    "optimizer = optim.Adam(net.parameters())"
   ]
  },
  {
   "cell_type": "markdown",
   "metadata": {},
   "source": [
    "### Treinamento"
   ]
  },
  {
   "cell_type": "code",
   "execution_count": 11,
   "metadata": {},
   "outputs": [
    {
     "data": {
      "text/plain": [
       "device(type='cpu')"
      ]
     },
     "execution_count": 11,
     "metadata": {},
     "output_type": "execute_result"
    }
   ],
   "source": [
    "device = torch.device('cpu')\n",
    "device"
   ]
  },
  {
   "cell_type": "code",
   "execution_count": 12,
   "metadata": {},
   "outputs": [
    {
     "data": {
      "text/plain": [
       "classificador(\n",
       "  (conv1): Conv2d(1, 32, kernel_size=(3, 3), stride=(1, 1))\n",
       "  (conv2): Conv2d(32, 32, kernel_size=(3, 3), stride=(1, 1))\n",
       "  (activation): ReLU()\n",
       "  (bnorm): BatchNorm2d(32, eps=1e-05, momentum=0.1, affine=True, track_running_stats=True)\n",
       "  (pool): MaxPool2d(kernel_size=(2, 2), stride=(2, 2), padding=0, dilation=1, ceil_mode=False)\n",
       "  (flatten): Flatten()\n",
       "  (linear1): Linear(in_features=800, out_features=128, bias=True)\n",
       "  (linear2): Linear(in_features=128, out_features=128, bias=True)\n",
       "  (output): Linear(in_features=128, out_features=10, bias=True)\n",
       "  (dropout): Dropout(p=0.2, inplace=False)\n",
       ")"
      ]
     },
     "execution_count": 12,
     "metadata": {},
     "output_type": "execute_result"
    }
   ],
   "source": [
    "net.to(device)"
   ]
  },
  {
   "cell_type": "code",
   "execution_count": 13,
   "metadata": {},
   "outputs": [],
   "source": [
    "def training_loop(loader,epoch):\n",
    "    #loader dados para validação\n",
    "    running_loss = 0\n",
    "    running_accuracy = 0\n",
    "    \n",
    "    for i , data in enumerate(loader):\n",
    "        inputs,labels = data\n",
    "        #inputs = pixels, labels = respostas\n",
    "        inputs,labels = inputs.to(device), labels.to(device)\n",
    "        \n",
    "        optimizer.zero_grad()\n",
    "        outputs = net.foward(inputs)\n",
    "        \n",
    "        loss = criterion(outputs, labels)\n",
    "        loss.backward()\n",
    "        #back propagation\n",
    "        \n",
    "        optimizer.step()\n",
    "        #aualiza os pesos\n",
    "        \n",
    "        running_loss += loss.item()\n",
    "        \n",
    "        ps = F.softmax(outputs)\n",
    "        top_p,top_class = ps.topk(k=1,dim=1)\n",
    "        equals = top_class == labels.view(*top_class.shape)\n",
    "        \n",
    "        accuracy = torch.mean(equals.type(torch.float))\n",
    "        \n",
    "        running_accuracy += accuracy\n",
    "        \n",
    "        #Dados referentes a esse loop\n",
    "        print('\\rÉpoca {:3d} - Loop {:3d} de {:3d} : perda {:03.2f} - precisao {:03.2f}'.format(epoch+1,i+1,len(loader),loss,accuracy),end = '\\r' )\n",
    "    \n",
    "    #Dados referentes a essa época\n",
    "    print('\\rÉpoca {:3d} FINALIZADA: perda {:.5f} - precisao {:.5f}'.format(epoch+1,running_loss/len(loader),running_accuracy/len(loader)))"
   ]
  },
  {
   "cell_type": "code",
   "execution_count": 14,
   "metadata": {},
   "outputs": [
    {
     "name": "stdout",
     "output_type": "stream",
     "text": [
      "Treinando ...\n"
     ]
    },
    {
     "name": "stderr",
     "output_type": "stream",
     "text": [
      "C:\\Users\\willi\\Anaconda3\\lib\\site-packages\\ipykernel_launcher.py:23: UserWarning: Implicit dimension choice for softmax has been deprecated. Change the call to include dim=X as an argument.\n"
     ]
    },
    {
     "name": "stdout",
     "output_type": "stream",
     "text": [
      "Época   1 FINALIZADA: perda 0.15935 - precisao 0.9536299\n",
      "Validando...\n",
      "Época   1 FINALIZADA: perda 0.16087 - precisao 0.9535200\n",
      "Treinando ...\n",
      "Época   2 FINALIZADA: perda 0.05280 - precisao 0.9842599\n",
      "Validando...\n",
      "Época   2 FINALIZADA: perda 0.07056 - precisao 0.9794300\n",
      "Treinando ...\n",
      "Época   3 FINALIZADA: perda 0.03828 - precisao 0.9891399\n",
      "Validando...\n",
      "Época   3 FINALIZADA: perda 0.04416 - precisao 0.9879400\n",
      "Treinando ...\n",
      "Época   4 FINALIZADA: perda 0.03155 - precisao 0.9909599\n",
      "Validando...\n",
      "Época   4 FINALIZADA: perda 0.04104 - precisao 0.9876400\n",
      "Treinando ...\n",
      "Época   5 FINALIZADA: perda 0.02521 - precisao 0.9925299\n",
      "Validando...\n",
      "Época   5 FINALIZADA: perda 0.02784 - precisao 0.9916900\n"
     ]
    }
   ],
   "source": [
    "for epoch in range(5):\n",
    "    print('Treinando ...')\n",
    "    training_loop(train_loader,epoch)\n",
    "    net.eval()\n",
    "    print('Validando...')\n",
    "    training_loop(test_loader,epoch)\n",
    "    net.train()"
   ]
  },
  {
   "cell_type": "markdown",
   "metadata": {},
   "source": [
    "### Avaliação do Modelo"
   ]
  },
  {
   "cell_type": "code",
   "execution_count": 15,
   "metadata": {},
   "outputs": [
    {
     "data": {
      "text/plain": [
       "<matplotlib.image.AxesImage at 0x259600c8e80>"
      ]
     },
     "execution_count": 15,
     "metadata": {},
     "output_type": "execute_result"
    },
    {
     "data": {
      "image/png": "[encoded data removed]",
      "text/plain": [
       "<Figure size 432x288 with 1 Axes>"
      ]
     },
     "metadata": {
      "needs_background": "light"
     },
     "output_type": "display_data"
    }
   ],
   "source": [
    "imagem = next(iter(test_loader))[0][0].view(28,28)\n",
    "plt.imshow(imagem,cmap ='gray')"
   ]
  },
  {
   "cell_type": "code",
   "execution_count": 16,
   "metadata": {},
   "outputs": [],
   "source": [
    "imagem = imagem.view(1,1,28,28)"
   ]
  },
  {
   "cell_type": "code",
   "execution_count": 17,
   "metadata": {},
   "outputs": [],
   "source": [
    "net.eval()\n",
    "imagem = imagem.to(device)"
   ]
  },
  {
   "cell_type": "code",
   "execution_count": 20,
   "metadata": {},
   "outputs": [
    {
     "name": "stderr",
     "output_type": "stream",
     "text": [
      "C:\\Users\\willi\\Anaconda3\\lib\\site-packages\\ipykernel_launcher.py:2: UserWarning: Implicit dimension choice for softmax has been deprecated. Change the call to include dim=X as an argument.\n",
      "  \n"
     ]
    }
   ],
   "source": [
    "previsao = net.foward(imagem)\n",
    "previsao = F.softmax(previsao)"
   ]
  },
  {
   "cell_type": "code",
   "execution_count": 21,
   "metadata": {},
   "outputs": [],
   "source": [
    "previsao = previsao.cpu().detach().numpy()"
   ]
  },
  {
   "cell_type": "code",
   "execution_count": 22,
   "metadata": {},
   "outputs": [],
   "source": [
    "resultado = np.argmax(previsao)"
   ]
  },
  {
   "cell_type": "code",
   "execution_count": 23,
   "metadata": {},
   "outputs": [
    {
     "data": {
      "text/plain": [
       "7"
      ]
     },
     "execution_count": 23,
     "metadata": {},
     "output_type": "execute_result"
    }
   ],
   "source": [
    "resultado"
   ]
  },
  {
   "cell_type": "markdown",
   "metadata": {},
   "source": [
    "###### Obs: Note que a precisão é alta pois o dataset de treinamento é também utilizado para a validação e testes já que é apenas uma demonstração do funcionamento das CNN."
   ]
  }
 ],
 "metadata": {
  "kernelspec": {
   "display_name": "Python 3",
   "language": "python",
   "name": "python3"
  },
  "language_info": {
   "codemirror_mode": {
    "name": "ipython",
    "version": 3
   },
   "file_extension": ".py",
   "mimetype": "text/x-python",
   "name": "python",
   "nbconvert_exporter": "python",
   "pygments_lexer": "ipython3",
   "version": "3.7.1"
  }
 },
 "nbformat": 4,
 "nbformat_minor": 2
}
