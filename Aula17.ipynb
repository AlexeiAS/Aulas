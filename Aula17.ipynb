{
 "cells": [
  {
   "cell_type": "markdown",
   "metadata": {},
   "source": [
    "### Extração de Características: Texturas"
   ]
  },
  {
   "cell_type": "code",
   "execution_count": 1,
   "metadata": {},
   "outputs": [],
   "source": [
    "import numpy as np\n",
    "import cv2\n",
    "import matplotlib.pyplot as plt\n",
    "import sys\n",
    "np.set_printoptions(threshold=sys.maxsize)"
   ]
  },
  {
   "cell_type": "markdown",
   "metadata": {},
   "source": [
    "#### Histograma:"
   ]
  },
  {
   "cell_type": "code",
   "execution_count": 2,
   "metadata": {},
   "outputs": [
    {
     "data": {
      "text/plain": [
       "<matplotlib.image.AxesImage at 0x1d7586c6e10>"
      ]
     },
     "execution_count": 2,
     "metadata": {},
     "output_type": "execute_result"
    },
    {
     "data": {
      "image/png": "[encoded data removed]",
      "text/plain": [
       "<Figure size 432x288 with 1 Axes>"
      ]
     },
     "metadata": {
      "needs_background": "light"
     },
     "output_type": "display_data"
    }
   ],
   "source": [
    "img = cv2.imread('gato1.png',0)\n",
    "img = cv2.resize(img,(32,32))\n",
    "plt.imshow(img,cmap= 'gray')"
   ]
  },
  {
   "cell_type": "code",
   "execution_count": 3,
   "metadata": {},
   "outputs": [
    {
     "data": {
      "image/png": "[encoded data removed]",
      "text/plain": [
       "<Figure size 432x288 with 1 Axes>"
      ]
     },
     "metadata": {
      "needs_background": "light"
     },
     "output_type": "display_data"
    }
   ],
   "source": [
    "n,bins,_ = plt.hist(img.ravel(),256,[0,256])\n",
    "plt.show()"
   ]
  },
  {
   "cell_type": "markdown",
   "metadata": {},
   "source": [
    "#### Matriz de Diferença de Tons de Cinza"
   ]
  },
  {
   "cell_type": "code",
   "execution_count": 4,
   "metadata": {},
   "outputs": [],
   "source": [
    "#O Critério Utilizado foi analizar o pixel acima e o pixel a direita\n",
    "#Foi reduzida a dimensão de 256 para 8, em que cada valor é um lote de 32 pixels\n",
    "def matDTC(timg,G):\n",
    "    for i in range(timg.shape[0]):\n",
    "        for j in range (timg.shape[1]):\n",
    "            its = int(timg[i,j])\n",
    "            if i-1 < 0 :\n",
    "                continue\n",
    "            elif j+1 >= timg.shape[1]:\n",
    "                continue\n",
    "        \n",
    "            if timg[i-1,j] == timg[i,j+1]:\n",
    "                G[its-1,int(timg[i,j+1])-1] +=1\n",
    "\n",
    "    return G\n",
    "            "
   ]
  },
  {
   "cell_type": "code",
   "execution_count": 5,
   "metadata": {},
   "outputs": [],
   "source": [
    "timg = img.astype('float32')\n",
    "timg = (timg+1)/32\n",
    "timg = np.ceil(timg)\n",
    "\n",
    "G = np.zeros((8,8))"
   ]
  },
  {
   "cell_type": "code",
   "execution_count": 6,
   "metadata": {},
   "outputs": [
    {
     "name": "stdout",
     "output_type": "stream",
     "text": [
      "[[ 0.  0.  0.  0.  0.  0.  0.  0.]\n",
      " [ 0.  0.  2.  4.  0.  0.  1.  0.]\n",
      " [ 0.  1. 10.  8.  2.  0.  0.  1.]\n",
      " [ 0.  0.  4. 10. 16.  4.  1.  0.]\n",
      " [ 0.  0.  4.  4. 47. 17.  5.  0.]\n",
      " [ 0.  0.  0.  1. 14. 60. 24.  2.]\n",
      " [ 0.  0.  0.  3.  1. 22. 43.  4.]\n",
      " [ 0.  0.  0.  0.  2.  2.  6.  3.]]\n"
     ]
    }
   ],
   "source": [
    "G = matDTC(timg,G)\n",
    "print(G)"
   ]
  },
  {
   "cell_type": "markdown",
   "metadata": {},
   "source": [
    "#### Contraste:"
   ]
  },
  {
   "cell_type": "code",
   "execution_count": 7,
   "metadata": {},
   "outputs": [],
   "source": [
    "def Contraste(G):\n",
    "    sum = G.sum()\n",
    "    print('Soma dos elem. de G:%d'% sum)\n",
    "    C = 0\n",
    "    for i in range (G.shape[0]):\n",
    "        for j in range(G.shape[1]):\n",
    "            p = G[i,j]/sum\n",
    "            C += ((i-j)**2) * p\n",
    "    return C\n",
    "    "
   ]
  },
  {
   "cell_type": "code",
   "execution_count": 8,
   "metadata": {},
   "outputs": [
    {
     "name": "stdout",
     "output_type": "stream",
     "text": [
      "Soma dos elem. de G:328\n",
      "Contraste na imagem original:0.993902\n"
     ]
    }
   ],
   "source": [
    "print('Contraste na imagem original:%f'% (Contraste(G)))\n",
    "        "
   ]
  },
  {
   "cell_type": "code",
   "execution_count": 9,
   "metadata": {},
   "outputs": [
    {
     "data": {
      "image/png": "[encoded data removed]",
      "text/plain": [
       "<Figure size 432x288 with 1 Axes>"
      ]
     },
     "metadata": {
      "needs_background": "light"
     },
     "output_type": "display_data"
    }
   ],
   "source": [
    "#Contraste na imagem binarizada-> grande variação de intensidade\n",
    "_,thresh = cv2.threshold(img,128,255,cv2.THRESH_BINARY)\n",
    "plt.imshow(thresh,cmap = 'gray')\n",
    "timg = thresh.astype('float32')\n",
    "timg = (timg+1)/32\n",
    "timg = np.ceil(timg)\n",
    "\n",
    "G2 = np.zeros((8,8))\n"
   ]
  },
  {
   "cell_type": "code",
   "execution_count": 10,
   "metadata": {},
   "outputs": [
    {
     "name": "stdout",
     "output_type": "stream",
     "text": [
      "Soma dos elem. de G:759\n",
      "Contraste da imagem Binarizada:5.100132\n"
     ]
    }
   ],
   "source": [
    "G2 = matDTC(timg,G2)\n",
    "print('Contraste da imagem Binarizada:%f' %(Contraste(G2)))\n",
    "### Como a variação das intensidades é maior o contraste também é maior."
   ]
  }
 ],
 "metadata": {
  "kernelspec": {
   "display_name": "Python 3",
   "language": "python",
   "name": "python3"
  },
  "language_info": {
   "codemirror_mode": {
    "name": "ipython",
    "version": 3
   },
   "file_extension": ".py",
   "mimetype": "text/x-python",
   "name": "python",
   "nbconvert_exporter": "python",
   "pygments_lexer": "ipython3",
   "version": "3.7.1"
  }
 },
 "nbformat": 4,
 "nbformat_minor": 2
}
