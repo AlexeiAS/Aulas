{
 "cells": [
  {
   "cell_type": "markdown",
   "metadata": {},
   "source": [
    "### Redes Neurais Artificiais: Perceptron Multicamadas"
   ]
  },
  {
   "cell_type": "code",
   "execution_count": 53,
   "metadata": {},
   "outputs": [],
   "source": [
    "import numpy as np\n",
    "import cv2\n",
    "import matplotlib.pyplot as plt\n",
    "from imutils import paths\n",
    "import os\n",
    "from sklearn.model_selection import train_test_split\n",
    "from sklearn.neural_network import MLPClassifier\n",
    "from sklearn.linear_model import Perceptron"
   ]
  },
  {
   "cell_type": "code",
   "execution_count": 81,
   "metadata": {},
   "outputs": [],
   "source": [
    "pathDog = './dataset/training_set/cachorro'\n",
    "pathCat = './dataset/training_set/gato'"
   ]
  },
  {
   "cell_type": "code",
   "execution_count": 69,
   "metadata": {},
   "outputs": [],
   "source": [
    "def processImage (image,size = (32,32)):\n",
    "    image = cv2.cvtColor(image,cv2.COLOR_RGB2GRAY)\n",
    "    image = cv2.resize(image,size,interpolation  = cv2.INTER_AREA)\n",
    "    image = image.flatten()\n",
    "    return image"
   ]
  },
  {
   "cell_type": "code",
   "execution_count": 82,
   "metadata": {},
   "outputs": [],
   "source": [
    "def load_images(path,size = (32,32)):\n",
    "    imagePaths = list(paths.list_images(path))\n",
    "    images = []\n",
    "    for (i,imagePath) in enumerate(imagePaths):\n",
    "        try:\n",
    "            imagePath = imagePath.replace('\\\\','/')\n",
    "            image = cv2.imread(imagePath)\n",
    "            image = cv2.cvtColor(image,cv2.COLOR_RGB2GRAY)\n",
    "            image = cv2.resize(image,size,interpolation = cv2.INTER_AREA)\n",
    "            image  = image.flatten()\n",
    "            images.append(image)\n",
    "            \n",
    "        except:\n",
    "            print('Imagem Corrompida!!')\n",
    "    images = np.array(images)\n",
    "    return images"
   ]
  },
  {
   "cell_type": "code",
   "execution_count": 83,
   "metadata": {},
   "outputs": [],
   "source": [
    "dataDog = load_images(pathDog)\n",
    "dataCat = load_images(pathCat)"
   ]
  },
  {
   "cell_type": "code",
   "execution_count": 84,
   "metadata": {},
   "outputs": [],
   "source": [
    "labelDog = np.zeros(len(dataDog))\n",
    "labelCat = np.ones(len(dataCat))"
   ]
  },
  {
   "cell_type": "code",
   "execution_count": 85,
   "metadata": {},
   "outputs": [],
   "source": [
    "(D_train, D_test, dl_train, dl_test) = train_test_split( dataDog, labelDog, test_size=0.20, random_state=42)\n",
    "(C_train, C_test, cl_train, cl_test) = train_test_split( dataCat, labelCat, test_size=0.20, random_state=42)"
   ]
  },
  {
   "cell_type": "code",
   "execution_count": 86,
   "metadata": {},
   "outputs": [],
   "source": [
    "X_train = np.concatenate((D_train,C_train))\n",
    "y_train = np.concatenate((dl_train,cl_train))\n",
    "X_test = np.concatenate((D_test,C_test))\n",
    "y_test = np.concatenate((dl_test,cl_test))"
   ]
  },
  {
   "cell_type": "code",
   "execution_count": 87,
   "metadata": {},
   "outputs": [],
   "source": [
    "MLPclass = MLPClassifier(random_state=0, tol=1e-3)"
   ]
  },
  {
   "cell_type": "code",
   "execution_count": 88,
   "metadata": {},
   "outputs": [
    {
     "data": {
      "text/plain": [
       "MLPClassifier(activation='relu', alpha=0.0001, batch_size='auto', beta_1=0.9,\n",
       "       beta_2=0.999, early_stopping=False, epsilon=1e-08,\n",
       "       hidden_layer_sizes=(100,), learning_rate='constant',\n",
       "       learning_rate_init=0.001, max_iter=200, momentum=0.9,\n",
       "       n_iter_no_change=10, nesterovs_momentum=True, power_t=0.5,\n",
       "       random_state=0, shuffle=True, solver='adam', tol=0.001,\n",
       "       validation_fraction=0.1, verbose=False, warm_start=False)"
      ]
     },
     "execution_count": 88,
     "metadata": {},
     "output_type": "execute_result"
    }
   ],
   "source": [
    "MLPclass.fit(X_train,y_train)"
   ]
  },
  {
   "cell_type": "code",
   "execution_count": 89,
   "metadata": {},
   "outputs": [
    {
     "name": "stdout",
     "output_type": "stream",
     "text": [
      "Accuracy : 0.525000\n"
     ]
    }
   ],
   "source": [
    "accuracy = MLPclass.score(X_test,y_test)\n",
    "print('Accuracy : %f' % accuracy)"
   ]
  }
 ],
 "metadata": {
  "kernelspec": {
   "display_name": "Python 3",
   "language": "python",
   "name": "python3"
  },
  "language_info": {
   "codemirror_mode": {
    "name": "ipython",
    "version": 3
   },
   "file_extension": ".py",
   "mimetype": "text/x-python",
   "name": "python",
   "nbconvert_exporter": "python",
   "pygments_lexer": "ipython3",
   "version": "3.7.1"
  }
 },
 "nbformat": 4,
 "nbformat_minor": 2
}
