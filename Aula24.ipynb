{
 "cells": [
  {
   "cell_type": "markdown",
   "metadata": {},
   "source": [
    "### Validação\n",
    "###### Classificação cruzada com k = 4"
   ]
  },
  {
   "cell_type": "code",
   "execution_count": 1,
   "metadata": {},
   "outputs": [],
   "source": [
    "import numpy as np\n",
    "import cv2\n",
    "import matplotlib.pyplot as plt\n",
    "from imutils import paths\n",
    "import os\n",
    "from sklearn.model_selection import train_test_split\n",
    "from sklearn.neural_network import MLPClassifier\n",
    "from sklearn.linear_model import Perceptron"
   ]
  },
  {
   "cell_type": "code",
   "execution_count": 2,
   "metadata": {},
   "outputs": [],
   "source": [
    "pathDog = './dataset/training_set/cachorro'\n",
    "pathCat = './dataset/training_set/gato'"
   ]
  },
  {
   "cell_type": "code",
   "execution_count": 3,
   "metadata": {},
   "outputs": [],
   "source": [
    "def processImage (image,size = (32,32)):\n",
    "    image = cv2.cvtColor(image,cv2.COLOR_RGB2GRAY)\n",
    "    image = cv2.resize(image,size,interpolation  = cv2.INTER_AREA)\n",
    "    image = image.flatten()\n",
    "    return image"
   ]
  },
  {
   "cell_type": "code",
   "execution_count": 4,
   "metadata": {},
   "outputs": [],
   "source": [
    "def load_images(path,size = (32,32)):\n",
    "    imagePaths = list(paths.list_images(path))\n",
    "    images = []\n",
    "    for (i,imagePath) in enumerate(imagePaths):\n",
    "        try:\n",
    "            imagePath = imagePath.replace('\\\\','/')\n",
    "            image = cv2.imread(imagePath)\n",
    "            image = cv2.cvtColor(image,cv2.COLOR_RGB2GRAY)\n",
    "            image = cv2.resize(image,size,interpolation = cv2.INTER_AREA)\n",
    "            image  = image.flatten()\n",
    "            images.append(image)\n",
    "            \n",
    "        except:\n",
    "            print('Imagem Corrompida!!')\n",
    "    images = np.array(images)\n",
    "    return images"
   ]
  },
  {
   "cell_type": "code",
   "execution_count": 5,
   "metadata": {},
   "outputs": [],
   "source": [
    "dataDog = load_images(pathDog)\n",
    "dataCat = load_images(pathCat)"
   ]
  },
  {
   "cell_type": "code",
   "execution_count": 6,
   "metadata": {},
   "outputs": [],
   "source": [
    "labelDog = np.zeros(len(dataDog))\n",
    "labelCat = np.ones(len(dataCat))"
   ]
  },
  {
   "cell_type": "code",
   "execution_count": 7,
   "metadata": {},
   "outputs": [],
   "source": [
    "##Cria para gatos e cachorros 4 conjuntos de treino\n",
    "(D_train1, D_train2, d_l1, d_l2) = train_test_split(dataDog, labelDog, test_size=0.50, random_state=42)\n",
    "\n",
    "(D1, D2, dl1, dl2) = train_test_split( D_train1, d_l1, test_size=0.50, random_state=42)\n",
    "(D3, D4, dl3, dl4) = train_test_split( D_train2, d_l2, test_size=0.50, random_state=42)\n",
    "\n",
    "(C_train1, C_train2, c_l1, c_l2) = train_test_split(dataCat, labelCat, test_size=0.50, random_state=42)\n",
    "(C1, C2, cl1, cl2) = train_test_split( C_train1, c_l1, test_size=0.50, random_state=42)\n",
    "(C3, C4, cl3, cl4) = train_test_split( C_train2, c_l2, test_size=0.50, random_state=42)\n"
   ]
  },
  {
   "cell_type": "code",
   "execution_count": 8,
   "metadata": {},
   "outputs": [
    {
     "name": "stdout",
     "output_type": "stream",
     "text": [
      "Accuracy : 0.573333\n"
     ]
    }
   ],
   "source": [
    "##Treino 1\n",
    "X_train = np.concatenate((D1,C1))\n",
    "y_train = np.concatenate((dl1,cl1))\n",
    "\n",
    "X_test = np.concatenate((D2,D3,D4,C2,C3,C4))\n",
    "y_test = np.concatenate((dl2,dl3,dl4,cl2,cl3,cl4))\n",
    "\n",
    "MLPclass1 = MLPClassifier(random_state=0, tol=1e-3)\n",
    "MLPclass1.fit(X_train,y_train)\n",
    "accuracy1 = MLPclass1.score(X_test,y_test)\n",
    "print('Accuracy : %f' % accuracy1)"
   ]
  },
  {
   "cell_type": "code",
   "execution_count": 9,
   "metadata": {},
   "outputs": [
    {
     "name": "stdout",
     "output_type": "stream",
     "text": [
      "Accuracy : 0.466667\n"
     ]
    }
   ],
   "source": [
    "##Treino 2\n",
    "X_train = np.concatenate((D2,C2))\n",
    "y_train = np.concatenate((dl2,cl2))\n",
    "\n",
    "X_test = np.concatenate((D1,D3,D4,C1,C3,C4))\n",
    "y_test = np.concatenate((dl1,dl3,dl4,cl1,cl3,cl4))\n",
    "\n",
    "MLPclass2 = MLPClassifier(random_state=0, tol=1e-3)\n",
    "MLPclass2.fit(X_train,y_train)\n",
    "accuracy2 = MLPclass2.score(X_test,y_test)\n",
    "print('Accuracy : %f' % accuracy2)"
   ]
  },
  {
   "cell_type": "code",
   "execution_count": 10,
   "metadata": {},
   "outputs": [
    {
     "name": "stdout",
     "output_type": "stream",
     "text": [
      "Accuracy : 0.533333\n"
     ]
    }
   ],
   "source": [
    "##Treino 3\n",
    "X_train = np.concatenate((D3,C3))\n",
    "y_train = np.concatenate((dl3,cl3))\n",
    "\n",
    "X_test = np.concatenate((D1,D2,D4,C1,C2,C4))\n",
    "y_test = np.concatenate((dl1,dl2,dl4,cl1,cl2,cl4))\n",
    "\n",
    "MLPclass3 = MLPClassifier(random_state=0, tol=1e-3)\n",
    "MLPclass3.fit(X_train,y_train)\n",
    "accuracy3 = MLPclass3.score(X_test,y_test)\n",
    "print('Accuracy : %f' % accuracy3)"
   ]
  },
  {
   "cell_type": "code",
   "execution_count": 11,
   "metadata": {},
   "outputs": [
    {
     "name": "stdout",
     "output_type": "stream",
     "text": [
      "Accuracy : 0.540000\n"
     ]
    }
   ],
   "source": [
    "##Treino 4\n",
    "X_train = np.concatenate((D4,C4))\n",
    "y_train = np.concatenate((dl4,cl4))\n",
    "\n",
    "X_test = np.concatenate((D1,D2,D3,C1,C2,C3))\n",
    "y_test = np.concatenate((dl1,dl2,dl3,cl1,cl2,cl3))\n",
    "\n",
    "MLPclass4 = MLPClassifier(random_state=0, tol=1e-3)\n",
    "MLPclass4.fit(X_train,y_train)\n",
    "accuracy4 = MLPclass4.score(X_test,y_test)\n",
    "print('Accuracy : %f' % accuracy4)"
   ]
  },
  {
   "cell_type": "code",
   "execution_count": 12,
   "metadata": {},
   "outputs": [
    {
     "name": "stdout",
     "output_type": "stream",
     "text": [
      "Accuracy Média:0.528333\n"
     ]
    }
   ],
   "source": [
    "accuracyT = np.mean([accuracy1,accuracy2,accuracy3,accuracy4])\n",
    "print('Accuracy Média:%f'% accuracyT)"
   ]
  }
 ],
 "metadata": {
  "kernelspec": {
   "display_name": "Python 3",
   "language": "python",
   "name": "python3"
  },
  "language_info": {
   "codemirror_mode": {
    "name": "ipython",
    "version": 3
   },
   "file_extension": ".py",
   "mimetype": "text/x-python",
   "name": "python",
   "nbconvert_exporter": "python",
   "pygments_lexer": "ipython3",
   "version": "3.7.1"
  }
 },
 "nbformat": 4,
 "nbformat_minor": 2
}
