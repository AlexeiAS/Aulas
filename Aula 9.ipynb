{
 "cells": [
  {
   "cell_type": "code",
   "execution_count": 1,
   "metadata": {},
   "outputs": [],
   "source": [
    "import cv2\n",
    "import numpy as np\n",
    "import matplotlib.pyplot as plt\n",
    "from matplotlib import colors"
   ]
  },
  {
   "cell_type": "markdown",
   "metadata": {},
   "source": [
    "### Parte 1 : Algoritimos Morfológicos"
   ]
  },
  {
   "cell_type": "code",
   "execution_count": 27,
   "metadata": {},
   "outputs": [],
   "source": [
    "img = np.ones((300,300),np.uint8)\n",
    "img = img*255\n",
    "cv2.circle(img,(img.shape[0]//2,img.shape[1]//2),img.shape[0]//4,(0),-1);"
   ]
  },
  {
   "cell_type": "code",
   "execution_count": 3,
   "metadata": {},
   "outputs": [
    {
     "data": {
      "text/plain": [
       "<matplotlib.image.AxesImage at 0x1e978eab978>"
      ]
     },
     "execution_count": 3,
     "metadata": {},
     "output_type": "execute_result"
    },
    {
     "data": {
      "image/png": "[encoded data removed]",
      "text/plain": [
       "<Figure size 432x288 with 1 Axes>"
      ]
     },
     "metadata": {
      "needs_background": "light"
     },
     "output_type": "display_data"
    }
   ],
   "source": [
    "plt.imshow(img,cmap = 'gray')"
   ]
  },
  {
   "cell_type": "markdown",
   "metadata": {},
   "source": [
    "### Extração de Fronteiras\n",
    "### Preenchimento de Regiões\n",
    "### Componentes Conectados\n",
    "### Afinamento\n",
    "### Espessamento\n",
    "### Esqueletonização"
   ]
  },
  {
   "cell_type": "markdown",
   "metadata": {},
   "source": [
    "### Extração de Fronteiras/Bordas\n"
   ]
  },
  {
   "cell_type": "code",
   "execution_count": 4,
   "metadata": {
    "scrolled": true
   },
   "outputs": [
    {
     "data": {
      "text/plain": [
       "<matplotlib.image.AxesImage at 0x1e978f51400>"
      ]
     },
     "execution_count": 4,
     "metadata": {},
     "output_type": "execute_result"
    },
    {
     "data": {
      "image/png": "[encoded data removed]",
      "text/plain": [
       "<Figure size 432x288 with 1 Axes>"
      ]
     },
     "metadata": {
      "needs_background": "light"
     },
     "output_type": "display_data"
    }
   ],
   "source": [
    "## Utilização do Filtro Laplaciano para a detecção de Bordas.\n",
    "\n",
    "imgt = cv2.Laplacian(img,cv2.CV_64F) #float64 para manter os valores negativos da translação da transição branco->preto.                    \n",
    "imgt = np.absolute(imgt) # Aplica o absoluto nos negativos.\n",
    "imgt = np.uint8(imgt)\n",
    "\n",
    "plt.imshow(imgt,cmap = 'gray')"
   ]
  },
  {
   "cell_type": "markdown",
   "metadata": {},
   "source": [
    "### Preenchimento de Regiões"
   ]
  },
  {
   "cell_type": "code",
   "execution_count": 5,
   "metadata": {},
   "outputs": [
    {
     "data": {
      "text/plain": [
       "<matplotlib.image.AxesImage at 0x1e978fb7320>"
      ]
     },
     "execution_count": 5,
     "metadata": {},
     "output_type": "execute_result"
    },
    {
     "data": {
      "image/png": "[encoded data removed]",
      "text/plain": [
       "<Figure size 432x288 with 1 Axes>"
      ]
     },
     "metadata": {
      "needs_background": "light"
     },
     "output_type": "display_data"
    }
   ],
   "source": [
    "plt.imshow(img,cmap = 'gray')\n"
   ]
  },
  {
   "cell_type": "code",
   "execution_count": 6,
   "metadata": {},
   "outputs": [
    {
     "data": {
      "text/plain": [
       "<matplotlib.image.AxesImage at 0x1e979018518>"
      ]
     },
     "execution_count": 6,
     "metadata": {},
     "output_type": "execute_result"
    },
    {
     "data": {
      "image/png": "[encoded data removed]",
      "text/plain": [
       "<Figure size 432x288 with 1 Axes>"
      ]
     },
     "metadata": {
      "needs_background": "light"
     },
     "output_type": "display_data"
    }
   ],
   "source": [
    "imgt = cv2.cvtColor(img,cv2.COLOR_GRAY2RGB)\n",
    "#Pinta o Fundo Branco de Azul\n",
    "cv2.floodFill(imgt,None,(0,0),(0,0,255))\n",
    "plt.imshow(imgt)"
   ]
  },
  {
   "cell_type": "code",
   "execution_count": 7,
   "metadata": {},
   "outputs": [
    {
     "data": {
      "text/plain": [
       "<matplotlib.image.AxesImage at 0x1e979074470>"
      ]
     },
     "execution_count": 7,
     "metadata": {},
     "output_type": "execute_result"
    },
    {
     "data": {
      "image/png": "[encoded data removed]",
      "text/plain": [
       "<Figure size 432x288 with 1 Axes>"
      ]
     },
     "metadata": {
      "needs_background": "light"
     },
     "output_type": "display_data"
    }
   ],
   "source": [
    "#Pinta a circunferência de Roxo\n",
    "cv2.floodFill(imgt,None,(imgt.shape[0]//2,imgt.shape[0]//2),(255,0,255))\n",
    "plt.imshow(imgt)"
   ]
  },
  {
   "cell_type": "markdown",
   "metadata": {},
   "source": [
    "### Componentes Conectados"
   ]
  },
  {
   "cell_type": "code",
   "execution_count": 8,
   "metadata": {},
   "outputs": [
    {
     "data": {
      "text/plain": [
       "<matplotlib.image.AxesImage at 0x1e9790ce748>"
      ]
     },
     "execution_count": 8,
     "metadata": {},
     "output_type": "execute_result"
    },
    {
     "data": {
      "image/png": "[encoded data removed]",
      "text/plain": [
       "<Figure size 432x288 with 1 Axes>"
      ]
     },
     "metadata": {
      "needs_background": "light"
     },
     "output_type": "display_data"
    }
   ],
   "source": [
    "imcc = np.ones((10,10),np.uint8)*255\n",
    "cv2.circle(imcc,(5,5),2,(0),-1)\n",
    "cv2.circle(imcc,(2,2),1,(0),-1)\n",
    "imcc = cv2.bitwise_not(imcc) #Negativo\n",
    "plt.imshow(imcc,cmap = 'gray')"
   ]
  },
  {
   "cell_type": "code",
   "execution_count": 9,
   "metadata": {},
   "outputs": [
    {
     "name": "stdout",
     "output_type": "stream",
     "text": [
      "3\n",
      "[[0 0 0 0 0 0 0 0 0 0]\n",
      " [0 0 1 0 0 0 0 0 0 0]\n",
      " [0 1 1 1 0 0 0 0 0 0]\n",
      " [0 0 1 0 0 2 0 0 0 0]\n",
      " [0 0 0 0 2 2 2 0 0 0]\n",
      " [0 0 0 2 2 2 2 2 0 0]\n",
      " [0 0 0 0 2 2 2 0 0 0]\n",
      " [0 0 0 0 0 2 0 0 0 0]\n",
      " [0 0 0 0 0 0 0 0 0 0]\n",
      " [0 0 0 0 0 0 0 0 0 0]]\n"
     ]
    }
   ],
   "source": [
    "#Essa Função mapeia as estruturas conectadas em que ret é o número de componentes (3 -> 2 estruturas em branco e o fundo) \n",
    "#é o mapeamento \n",
    "ret,label = cv2.connectedComponents(imcc)\n",
    "print(ret)\n",
    "print(label)"
   ]
  },
  {
   "cell_type": "code",
   "execution_count": 10,
   "metadata": {},
   "outputs": [
    {
     "data": {
      "text/plain": [
       "<matplotlib.image.AxesImage at 0x1e979128940>"
      ]
     },
     "execution_count": 10,
     "metadata": {},
     "output_type": "execute_result"
    },
    {
     "data": {
      "image/png": "[encoded data removed]",
      "text/plain": [
       "<Figure size 432x288 with 1 Axes>"
      ]
     },
     "metadata": {
      "needs_background": "light"
     },
     "output_type": "display_data"
    }
   ],
   "source": [
    "#Separando os Componentes da Imagem por Cores\n",
    "# -> Cria 3 canais e faz o merge\n",
    "lb1 = np.uint8(255*label/np.max(label))\n",
    "lb2 = 255*np.ones_like(lb1)\n",
    "img_lb = cv2.merge([lb1,lb2,lb2])\n",
    "\n",
    "img_lb = cv2.cvtColor(img_lb,cv2.COLOR_HSV2RGB) \n",
    "img_lb[lb1 == 0] = 0 #-> seta background\n",
    "plt.imshow(img_lb)"
   ]
  },
  {
   "cell_type": "markdown",
   "metadata": {},
   "source": [
    "### Afinamento e Espessamento"
   ]
  },
  {
   "cell_type": "markdown",
   "metadata": {},
   "source": [
    "#### Obs : As demonstrações iniciais são mostradas pois foram parte de um estudo profundo sobre o entendimento do funcionamento da Transformada Hit or Miss aplicada nas funções morfológicas de afinamento e espessamento"
   ]
  },
  {
   "cell_type": "code",
   "execution_count": 11,
   "metadata": {},
   "outputs": [],
   "source": [
    "img = 255*np.array((\n",
    "    [0,0,0,0,0,0,0],\n",
    "    [0,1,1,1,0,0,0],\n",
    "    [0,1,1,1,0,0,0],\n",
    "    [0,1,1,1,0,0,0],\n",
    "    [0,1,1,1,1,1,0],\n",
    "    [0,1,1,1,1,1,0],\n",
    "    [0,1,1,1,1,0,0],\n",
    "    [0,1,1,1,1,0,0],\n",
    "    [0,1,1,1,1,1,0],\n",
    "    [0,1,1,1,1,1,0],\n",
    "    [0,1,1,1,1,1,0],\n",
    "    [0,0,0,0,0,0,0]),dtype = 'uint8')"
   ]
  },
  {
   "cell_type": "code",
   "execution_count": 12,
   "metadata": {},
   "outputs": [
    {
     "data": {
      "image/png": "[encoded data removed]",
      "text/plain": [
       "<Figure size 360x360 with 1 Axes>"
      ]
     },
     "metadata": {
      "needs_background": "light"
     },
     "output_type": "display_data"
    }
   ],
   "source": [
    "cmap = colors.ListedColormap(['Black','White'])\n",
    "plt.figure(figsize = (5,5))\n",
    "plt.pcolor(img[::-1],cmap = cmap,edgecolors = 'gray',lw = 2)\n",
    "\n",
    "plt.show()"
   ]
  },
  {
   "cell_type": "code",
   "execution_count": 13,
   "metadata": {},
   "outputs": [
    {
     "name": "stdout",
     "output_type": "stream",
     "text": [
      "[[ 1  1  1]\n",
      " [ 0  1  0]\n",
      " [-1 -1 -1]] \n",
      "\n",
      " [[-1  0  0]\n",
      " [ 1  1  0]\n",
      " [ 1  1 -1]]\n"
     ]
    }
   ],
   "source": [
    "## Elementos Estruturantes para o Afinamento\n",
    "B1 = np.array((\n",
    "    [1,1,1],\n",
    "    [0,1,0],\n",
    "    [-1,-1,-1]),dtype = 'int')\n",
    "\n",
    "\n",
    "B2 = np.array((\n",
    "    [-1,0,0],\n",
    "    [1,1,0],\n",
    "    [1,1,-1]),dtype = 'int')\n",
    "\n",
    "\n",
    "\n",
    "print(B1,'\\n\\n',B2)"
   ]
  },
  {
   "cell_type": "code",
   "execution_count": 14,
   "metadata": {},
   "outputs": [
    {
     "data": {
      "text/plain": [
       "<matplotlib.collections.PolyCollection at 0x1e9791f3400>"
      ]
     },
     "execution_count": 14,
     "metadata": {},
     "output_type": "execute_result"
    },
    {
     "data": {
      "image/png": "[encoded data removed]",
      "text/plain": [
       "<Figure size 360x360 with 1 Axes>"
      ]
     },
     "metadata": {
      "needs_background": "light"
     },
     "output_type": "display_data"
    }
   ],
   "source": [
    "#Afinmaneto pelo Elemento Estruturante B1\n",
    "app1 = cv2.morphologyEx(img,cv2.MORPH_HITMISS,B1)\n",
    "app1 = img - app1\n",
    "\n",
    "plt.figure(figsize = (5,5))\n",
    "plt.pcolor(app1[::-1],cmap = cmap ,edgecolors = 'gray',lw = 2)"
   ]
  },
  {
   "cell_type": "code",
   "execution_count": 15,
   "metadata": {},
   "outputs": [
    {
     "data": {
      "text/plain": [
       "<matplotlib.collections.PolyCollection at 0x1e979253f60>"
      ]
     },
     "execution_count": 15,
     "metadata": {},
     "output_type": "execute_result"
    },
    {
     "data": {
      "image/png": "[encoded data removed]",
      "text/plain": [
       "<Figure size 360x360 with 1 Axes>"
      ]
     },
     "metadata": {
      "needs_background": "light"
     },
     "output_type": "display_data"
    }
   ],
   "source": [
    "#Afinamento do resultado app1 pelo Elemento Estruturante B2\n",
    "app2 = cv2.morphologyEx(app1,cv2.MORPH_HITMISS,B2)\n",
    "app2 = app1 - app2\n",
    "\n",
    "\n",
    "plt.figure(figsize = (5,5))\n",
    "plt.pcolor(app2[::-1],cmap = cmap , edgecolors = 'gray', lw = 2)"
   ]
  },
  {
   "cell_type": "code",
   "execution_count": 16,
   "metadata": {},
   "outputs": [],
   "source": [
    "img2 = 255*np.array((\n",
    "    [0,0,0,0,0,0,0],\n",
    "    [0,0,0,0,0,0,0],\n",
    "    [0,0,1,1,1,1,0],\n",
    "    [0,0,1,0,0,0,0],\n",
    "    [0,0,1,0,0,0,0],\n",
    "    [0,1,1,0,0,0,0],\n",
    "    [0,0,1,0,0,0,0],\n",
    "    [0,0,1,1,1,0,0],\n",
    "    [0,0,0,1,1,0,0],\n",
    "    [0,0,0,0,1,0,0],\n",
    "    [0,0,0,0,1,0,0],\n",
    "    [0,0,0,0,0,0,0]),dtype = 'uint8')"
   ]
  },
  {
   "cell_type": "code",
   "execution_count": 17,
   "metadata": {},
   "outputs": [
    {
     "data": {
      "text/plain": [
       "<matplotlib.collections.PolyCollection at 0x1e9792c0a90>"
      ]
     },
     "execution_count": 17,
     "metadata": {},
     "output_type": "execute_result"
    },
    {
     "data": {
      "image/png": "[encoded data removed]",
      "text/plain": [
       "<Figure size 360x360 with 1 Axes>"
      ]
     },
     "metadata": {
      "needs_background": "light"
     },
     "output_type": "display_data"
    }
   ],
   "source": [
    "cmap = colors.ListedColormap(['Black','White'])\n",
    "plt.figure(figsize = (5,5))\n",
    "plt.pcolor(img2[::-1],cmap = cmap,edgecolors = 'gray',lw = 2)\n"
   ]
  },
  {
   "cell_type": "code",
   "execution_count": 18,
   "metadata": {},
   "outputs": [
    {
     "name": "stdout",
     "output_type": "stream",
     "text": [
      "[[-1 -1 -1]\n",
      " [ 0 -1  0]\n",
      " [ 1  1  1]] \n",
      "\n",
      " [[ 0  1  1]\n",
      " [-1 -1  1]\n",
      " [-1 -1  0]]\n"
     ]
    }
   ],
   "source": [
    "#Elementos Estruturantes para o Espessamento\n",
    "C1 = np.array((\n",
    "    [-1,-1,-1],\n",
    "    [0,-1,0],\n",
    "    [1,1,1]),dtype = 'int')\n",
    "\n",
    "C2 = np.array((\n",
    "    [0,1,1],\n",
    "    [-1,-1,1],\n",
    "    [-1,-1,0]),dtype ='int')\n",
    "\n",
    "print(C1,'\\n\\n',C2)"
   ]
  },
  {
   "cell_type": "code",
   "execution_count": 19,
   "metadata": {},
   "outputs": [
    {
     "data": {
      "text/plain": [
       "<matplotlib.collections.PolyCollection at 0x1e97919eef0>"
      ]
     },
     "execution_count": 19,
     "metadata": {},
     "output_type": "execute_result"
    },
    {
     "data": {
      "image/png": "[encoded data removed]",
      "text/plain": [
       "<Figure size 360x360 with 1 Axes>"
      ]
     },
     "metadata": {
      "needs_background": "light"
     },
     "output_type": "display_data"
    }
   ],
   "source": [
    "app3 = cv2.morphologyEx(img2,cv2.MORPH_HITMISS,C1,borderType = cv2.BORDER_REFLECT)\n",
    "app3 =  np.bitwise_or(app3,img2)\n",
    "\n",
    "plt.figure(figsize = (5,5))\n",
    "plt.pcolor(app3[::-1],cmap = cmap,edgecolors = 'gray', lw = 2)"
   ]
  },
  {
   "cell_type": "code",
   "execution_count": 20,
   "metadata": {},
   "outputs": [
    {
     "data": {
      "text/plain": [
       "<matplotlib.collections.PolyCollection at 0x1e979324940>"
      ]
     },
     "execution_count": 20,
     "metadata": {},
     "output_type": "execute_result"
    },
    {
     "data": {
      "image/png": "[encoded data removed]",
      "text/plain": [
       "<Figure size 360x360 with 1 Axes>"
      ]
     },
     "metadata": {
      "needs_background": "light"
     },
     "output_type": "display_data"
    }
   ],
   "source": [
    "app4 = cv2.morphologyEx(app3,cv2.MORPH_HITMISS,C2,borderType = cv2.BORDER_REFLECT)\n",
    "app4 = np.bitwise_or(app4,app3)\n",
    "\n",
    "plt.figure(figsize = (5,5))\n",
    "plt.pcolor(app4[::-1],cmap = cmap,edgecolors = 'gray', lw = 2)"
   ]
  },
  {
   "cell_type": "code",
   "execution_count": 21,
   "metadata": {},
   "outputs": [
    {
     "data": {
      "text/plain": [
       "<matplotlib.image.AxesImage at 0x1e979389860>"
      ]
     },
     "execution_count": 21,
     "metadata": {},
     "output_type": "execute_result"
    },
    {
     "data": {
      "image/png": "[encoded data removed]",
      "text/plain": [
       "<Figure size 432x288 with 1 Axes>"
      ]
     },
     "metadata": {
      "needs_background": "light"
     },
     "output_type": "display_data"
    }
   ],
   "source": [
    "#Executando a Célula da imagem original e plotando a imagem\n",
    "img = np.ones((20,20),np.uint8)\n",
    "img = img*255\n",
    "cv2.circle(img,(img.shape[0]//2,img.shape[1]//2),img.shape[0]//4,(0),-1);\n",
    "plt.imshow(img,cmap = 'gray')"
   ]
  },
  {
   "cell_type": "code",
   "execution_count": 22,
   "metadata": {},
   "outputs": [
    {
     "data": {
      "image/png": "[encoded data removed]",
      "text/plain": [
       "<Figure size 720x720 with 3 Axes>"
      ]
     },
     "metadata": {
      "needs_background": "light"
     },
     "output_type": "display_data"
    }
   ],
   "source": [
    "#Afinamento à esquerda\n",
    "kernel = np.array((\n",
    "    [0,0,0],\n",
    "    [1,-1,-1],\n",
    "    [0,0,0]),dtype = 'int')\n",
    "\n",
    "\n",
    "afin = cv2.morphologyEx(img,cv2.MORPH_HITMISS,kernel)\n",
    "\n",
    "rafin = img + afin  #Note que o operador será + pois as cores são invertidas em relação ao default) \n",
    "\n",
    "\n",
    "plt.figure(figsize = (10,10))\n",
    "plt.subplot(1,3,1)\n",
    "plt.imshow(img,cmap = 'gray')\n",
    "plt.title('original')\n",
    "plt.grid()\n",
    "\n",
    "plt.subplot(1,3,2)\n",
    "plt.imshow(rafin,cmap = 'gray')\n",
    "plt.title('afinamento')\n",
    "plt.grid()\n",
    "\n",
    "plt.subplot(1,3,3)\n",
    "plt.imshow(afin,cmap = 'gray')\n",
    "plt.title('transformada')\n",
    "plt.grid()"
   ]
  },
  {
   "cell_type": "code",
   "execution_count": 23,
   "metadata": {},
   "outputs": [
    {
     "data": {
      "image/png": "[encoded data removed]",
      "text/plain": [
       "<Figure size 720x720 with 3 Axes>"
      ]
     },
     "metadata": {
      "needs_background": "light"
     },
     "output_type": "display_data"
    }
   ],
   "source": [
    "#Espessamento à Esquerda\n",
    "kernel = np.array((\n",
    "    [0,0,0],\n",
    "    [1,1,-1],\n",
    "    [0,0,0]),dtype = 'int')\n",
    "\n",
    "esp = cv2.morphologyEx(img,cv2.MORPH_HITMISS,kernel,borderType = cv2.BORDER_REFLECT)\n",
    "resp = img - esp #Note novamente o sinal invertido devido as cores invertidas\n",
    "\n",
    "plt.figure(figsize = (10,10))\n",
    "plt.subplot(1,3,1)\n",
    "plt.imshow(img,cmap = 'gray')\n",
    "plt.title('original')\n",
    "plt.grid()\n",
    "\n",
    "plt.subplot(1,3,2)\n",
    "plt.imshow(resp,cmap = 'gray')\n",
    "plt.title('espessamento')\n",
    "plt.grid()\n",
    "\n",
    "plt.subplot(1,3,3)\n",
    "plt.imshow(esp,cmap = 'gray')\n",
    "plt.title('transformada')\n",
    "plt.grid()"
   ]
  },
  {
   "cell_type": "markdown",
   "metadata": {},
   "source": [
    "### Esqueletonização"
   ]
  },
  {
   "cell_type": "code",
   "execution_count": 24,
   "metadata": {},
   "outputs": [
    {
     "data": {
      "text/plain": [
       "<matplotlib.collections.PolyCollection at 0x1e97a5680b8>"
      ]
     },
     "execution_count": 24,
     "metadata": {},
     "output_type": "execute_result"
    },
    {
     "data": {
      "image/png": "[encoded data removed]",
      "text/plain": [
       "<Figure size 216x216 with 1 Axes>"
      ]
     },
     "metadata": {
      "needs_background": "light"
     },
     "output_type": "display_data"
    }
   ],
   "source": [
    "img = 255*np.array((\n",
    "    [0,0,0,0,0,0],\n",
    "    [0,1,1,1,1,0],\n",
    "    [0,1,1,1,1,0],\n",
    "    [0,1,1,1,1,0],\n",
    "    [0,1,1,1,1,0],\n",
    "    [0,0,0,0,0,0]),dtype = 'uint8')\n",
    "\n",
    "plt.figure(figsize = (3,3))\n",
    "plt.pcolor(img[::-1],cmap = cmap, edgecolors = 'gray', lw = 2)"
   ]
  },
  {
   "cell_type": "code",
   "execution_count": 25,
   "metadata": {},
   "outputs": [],
   "source": [
    "#Função de Esqueletonização\n",
    "def esqueleto(img):\n",
    "    esq = np.zeros_like(img)\n",
    "    kernel = cv2.getStructuringElement(cv2.MORPH_CROSS,(3,3))\n",
    "    \n",
    "    while True :\n",
    "        open = cv2.morphologyEx(img,cv2.MORPH_OPEN,kernel,iterations = 1)\n",
    "        dif = img - open \n",
    "        esq = np.bitwise_or(esq,dif)\n",
    "        \n",
    "        img = cv2.morphologyEx(img,cv2.MORPH_ERODE,kernel,iterations =1)\n",
    "        \n",
    "        if cv2.countNonZero(img) == 0 :\n",
    "            break\n",
    "    return esq"
   ]
  },
  {
   "cell_type": "code",
   "execution_count": 26,
   "metadata": {},
   "outputs": [
    {
     "data": {
      "text/plain": [
       "<matplotlib.collections.PolyCollection at 0x1e97a5b44a8>"
      ]
     },
     "execution_count": 26,
     "metadata": {},
     "output_type": "execute_result"
    },
    {
     "data": {
      "image/png": "[encoded data removed]",
      "text/plain": [
       "<Figure size 216x216 with 1 Axes>"
      ]
     },
     "metadata": {
      "needs_background": "light"
     },
     "output_type": "display_data"
    }
   ],
   "source": [
    "esq = esqueleto(img)\n",
    "\n",
    "plt.figure(figsize = (3,3))\n",
    "plt.pcolor(esq[::-1],cmap = cmap,edgecolors = 'gray',lw = 2)"
   ]
  },
  {
   "cell_type": "code",
   "execution_count": 28,
   "metadata": {},
   "outputs": [
    {
     "data": {
      "text/plain": [
       "Text(0.5, 1.0, 'esqueleto')"
      ]
     },
     "execution_count": 28,
     "metadata": {},
     "output_type": "execute_result"
    },
    {
     "data": {
      "image/png": "[encoded data removed]",
      "text/plain": [
       "<Figure size 360x360 with 2 Axes>"
      ]
     },
     "metadata": {
      "needs_background": "light"
     },
     "output_type": "display_data"
    }
   ],
   "source": [
    "#Aplicando na Imagem da Tarefa\n",
    "img = np.ones((30,30),np.uint8)\n",
    "img = img*255\n",
    "cv2.circle(img,(img.shape[0]//2,img.shape[1]//2),img.shape[0]//4,(0),-1);\n",
    "\n",
    "img = np.bitwise_not(img)\n",
    "esq = esqueleto(img)\n",
    "\n",
    "plt.figure(figsize = (5,5))\n",
    "plt.subplot(1,2,1)\n",
    "plt.imshow(img,cmap = 'gray')\n",
    "plt.title('original')\n",
    "\n",
    "plt.subplot(1,2,2)\n",
    "plt.imshow(esq,cmap =  'gray')\n",
    "plt.title('esqueleto')"
   ]
  },
  {
   "cell_type": "markdown",
   "metadata": {},
   "source": [
    "### Parte 2 : Extração dos caracteres da placa"
   ]
  },
  {
   "cell_type": "code",
   "execution_count": 29,
   "metadata": {},
   "outputs": [
    {
     "data": {
      "text/plain": [
       "<matplotlib.image.AxesImage at 0x1e97a727550>"
      ]
     },
     "execution_count": 29,
     "metadata": {},
     "output_type": "execute_result"
    },
    {
     "data": {
      "image/png": "[encoded data removed]",
      "text/plain": [
       "<Figure size 432x288 with 1 Axes>"
      ]
     },
     "metadata": {
      "needs_background": "light"
     },
     "output_type": "display_data"
    }
   ],
   "source": [
    "img = cv2.imread('imgproc.png')\n",
    "img = cv2.cvtColor(img,cv2.COLOR_RGB2GRAY)\n",
    "\n",
    "plt.imshow(img,cmap = 'gray')"
   ]
  },
  {
   "cell_type": "code",
   "execution_count": 30,
   "metadata": {},
   "outputs": [
    {
     "data": {
      "text/plain": [
       "<matplotlib.image.AxesImage at 0x1e97a4f2f60>"
      ]
     },
     "execution_count": 30,
     "metadata": {},
     "output_type": "execute_result"
    },
    {
     "data": {
      "image/png": "[encoded data removed]",
      "text/plain": [
       "<Figure size 432x288 with 1 Axes>"
      ]
     },
     "metadata": {
      "needs_background": "light"
     },
     "output_type": "display_data"
    }
   ],
   "source": [
    "#Tomei como necessário aplicar mais uma abertura para separar o U do H\n",
    "kernel = np.ones((3,3))\n",
    "open = cv2.morphologyEx(img,cv2.MORPH_OPEN,kernel,iterations = 1)\n",
    "plt.imshow(open,cmap = 'gray')"
   ]
  },
  {
   "cell_type": "code",
   "execution_count": 31,
   "metadata": {
    "scrolled": true
   },
   "outputs": [
    {
     "data": {
      "text/plain": [
       "<matplotlib.image.AxesImage at 0x1e97a440a58>"
      ]
     },
     "execution_count": 31,
     "metadata": {},
     "output_type": "execute_result"
    },
    {
     "data": {
      "image/png": "[encoded data removed]",
      "text/plain": [
       "<Figure size 432x288 with 1 Axes>"
      ]
     },
     "metadata": {
      "needs_background": "light"
     },
     "output_type": "display_data"
    }
   ],
   "source": [
    "#Caracteres representados por Cores diferentes\n",
    "\n",
    "ret,label = cv2.connectedComponents(open)\n",
    "lb1 = np.uint8(255*label/np.max(label))\n",
    "lb2 = 255*np.ones_like(lb1)\n",
    "img_lb = cv2.merge([lb1,lb2,lb2])\n",
    "\n",
    "img_lb = cv2.cvtColor(img_lb,cv2.COLOR_HSV2RGB) \n",
    "img_lb[lb1 == 0] = 0 #-> seta background\n",
    "plt.imshow(img_lb)"
   ]
  }
 ],
 "metadata": {
  "kernelspec": {
   "display_name": "Python 3",
   "language": "python",
   "name": "python3"
  },
  "language_info": {
   "codemirror_mode": {
    "name": "ipython",
    "version": 3
   },
   "file_extension": ".py",
   "mimetype": "text/x-python",
   "name": "python",
   "nbconvert_exporter": "python",
   "pygments_lexer": "ipython3",
   "version": "3.7.1"
  }
 },
 "nbformat": 4,
 "nbformat_minor": 2
}
