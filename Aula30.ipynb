{
 "cells": [
  {
   "cell_type": "markdown",
   "metadata": {},
   "source": [
    "##### Gerador : Recebe entradas aleatórias e tenta gerar algo parecido com o treinamento\n",
    "##### Discriminador : Coleta dados de treinamento e dados gerados e tenta distinguir os falsos dos verdadeiros.\n",
    "\n",
    "###### resumo -> gerador gera dados falsos e discriminador melhor reconhecimento de dados falsos"
   ]
  },
  {
   "cell_type": "code",
   "execution_count": 4,
   "metadata": {},
   "outputs": [],
   "source": [
    "import numpy as np\n",
    "import math "
   ]
  },
  {
   "cell_type": "markdown",
   "metadata": {},
   "source": [
    "### Funções"
   ]
  },
  {
   "cell_type": "code",
   "execution_count": 1,
   "metadata": {},
   "outputs": [],
   "source": [
    "#transforma um número em uma lista de binários\n",
    "def create_binary_list_from_int(num):\n",
    "    if num < 0 or type(num) is not int:\n",
    "        raise ValueError('Apenas inteiros positivos permitidos')\n",
    "    return [int(x) for x in list(bin(num))[2:]]"
   ]
  },
  {
   "cell_type": "code",
   "execution_count": 2,
   "metadata": {},
   "outputs": [],
   "source": [
    "#Gera uma lista de tuplas de binários \n",
    "def generate_even_data(max_int,batch_size = 16):\n",
    "    #Número de binarios necessários para o maximo número\n",
    "    max_length = int(math.log(max_int,2))\n",
    "    \n",
    "    #Gera os inteiros pares\n",
    "    sampled_integers = np.random.randint(0,int(max_int/2),batch_size)\n",
    "    \n",
    "    #Gera os labels com valor 1(par)\n",
    "    labels = [1]*batch_size\n",
    "    \n",
    "    #Gera a lista de números binários para o treino\n",
    "    data = [create_binary_list_from_int(int(x*2)) for x in sampled_integers]\n",
    "    \n",
    "    #Padroniza o tamanho do vetor colocando zeros à esquerda\n",
    "    data = [([0] * (max_length - len(x))) + x for x in data ]\n",
    "    \n",
    "    return labels,data\n",
    "    "
   ]
  },
  {
   "cell_type": "code",
   "execution_count": 3,
   "metadata": {},
   "outputs": [],
   "source": [
    "import torch.nn as nn"
   ]
  },
  {
   "cell_type": "markdown",
   "metadata": {},
   "source": [
    "### Gerador e Discriminador"
   ]
  },
  {
   "cell_type": "code",
   "execution_count": 5,
   "metadata": {},
   "outputs": [],
   "source": [
    "class Generator(nn.Module):\n",
    "    \n",
    "    def __init__(self,input_length):\n",
    "        super(Generator,self).__init__()\n",
    "        self.dense_layer = nn.Linear(int(input_length),int(input_length))\n",
    "        self.activation = nn.Sigmoid()\n",
    "        \n",
    "    def forward(self,x):\n",
    "        return self.activation(self.dense_layer(x))"
   ]
  },
  {
   "cell_type": "code",
   "execution_count": 6,
   "metadata": {},
   "outputs": [],
   "source": [
    "class Discriminator(nn.Module):\n",
    "    def __init__(self,input_length):\n",
    "        super(Discriminator,self).__init__()\n",
    "        self.dense = nn.Linear(int(input_length),1);\n",
    "        self.activation = nn.Sigmoid()\n",
    "        \n",
    "    def forward(self,x):\n",
    "        return self.activation(self.dense(x))"
   ]
  },
  {
   "cell_type": "code",
   "execution_count": 7,
   "metadata": {},
   "outputs": [],
   "source": [
    "import math\n",
    "import torch"
   ]
  },
  {
   "cell_type": "markdown",
   "metadata": {},
   "source": [
    "### Treinamento"
   ]
  },
  {
   "cell_type": "code",
   "execution_count": 8,
   "metadata": {},
   "outputs": [],
   "source": [
    "def train(max_int = 128,batch_size = 16,training_steps = 500):\n",
    "    input_length=int(math.log(max_int,2))\n",
    "\n",
    "    #Modelss\n",
    "\n",
    "    generator = Generator(input_length)\n",
    "    discriminator = Discriminator(input_length)\n",
    "\n",
    "    #Otimizadores\n",
    "    generator_optimizer = torch.optim.Adam(generator.parameters(),lr = 0.001)\n",
    "    discriminator_optimizer = torch.optim.Adam(discriminator.parameters(),lr = 0.001)\n",
    "\n",
    "    #loss\n",
    "    loss = nn.BCELoss()\n",
    "\n",
    "    for i in range(training_steps):\n",
    "        #Zera os gradientes\n",
    "        generator_optimizer.zero_grad()\n",
    "    \n",
    "        #ruído na entrada do gerador do tipo float\n",
    "    \n",
    "        noise = torch.randint(0,2,size=(batch_size,input_length)).float()\n",
    "        generated_data = generator(noise)\n",
    "        \n",
    "        #Gera exemplos de dados reais\n",
    "        true_labels,true_data = generate_even_data(max_int,batch_size = batch_size)\n",
    "        true_labels = torch.tensor(true_labels).float()\n",
    "        true_data = torch.tensor(true_data).float()\n",
    "    \n",
    "\n",
    "        #Treina o gerador\n",
    "        generator_discriminator_out = discriminator(generated_data)\n",
    "        generator_loss = loss(generator_discriminator_out,true_labels)\n",
    "        generator_loss.backward()\n",
    "        generator_optimizer.step()\n",
    "        \n",
    "    \n",
    "        #Treina o discriminador no true/generated data\n",
    "        discriminator_optimizer.zero_grad()\n",
    "        true_discriminator_out = discriminator(true_data)\n",
    "        true_discriminator_loss = loss(true_discriminator_out,true_labels)\n",
    "    \n",
    "        generator_discriminator_out = discriminator(generated_data.detach())\n",
    "        generator_discriminator_loss = loss(generator_discriminator_out,torch.zeros(batch_size))\n",
    "        discriminator_loss = (true_discriminator_loss+generator_discriminator_loss)/2\n",
    "    \n",
    "        discriminator_loss.backward()\n",
    "    \n",
    "        discriminator_optimizer.step()\n",
    "\n",
    "\n",
    "\n",
    "\n",
    "\n",
    "        \n",
    "\n"
   ]
  }
 ],
 "metadata": {
  "kernelspec": {
   "display_name": "Python 3",
   "language": "python",
   "name": "python3"
  },
  "language_info": {
   "codemirror_mode": {
    "name": "ipython",
    "version": 3
   },
   "file_extension": ".py",
   "mimetype": "text/x-python",
   "name": "python",
   "nbconvert_exporter": "python",
   "pygments_lexer": "ipython3",
   "version": "3.7.1"
  }
 },
 "nbformat": 4,
 "nbformat_minor": 2
}
